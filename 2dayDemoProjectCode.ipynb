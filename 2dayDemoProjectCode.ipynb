{
 "cells": [
  {
   "cell_type": "code",
   "execution_count": 1,
   "metadata": {},
   "outputs": [],
   "source": [
    "from sklearn.cluster import KMeans\n",
    "\n",
    "import pandas as pd\n",
    "import numpy as np\n",
    "import matplotlib.pyplot as plt\n",
    "\n",
    "%matplotlib inline"
   ]
  },
  {
   "cell_type": "code",
   "execution_count": 52,
   "metadata": {},
   "outputs": [],
   "source": [
    "from sklearn.naive_bayes import GaussianNB\n",
    "from sklearn.model_selection import train_test_split\n",
    "from sklearn.metrics import classification_report\n",
    "from sklearn.metrics import confusion_matrix\n",
    "from sklearn.metrics import accuracy_score\n",
    "from sklearn.naive_bayes import BernoulliNB\n",
    "from sklearn.linear_model import LinearRegression\n",
    "from sklearn.linear_model import LogisticRegression\n",
    "from sklearn import tree"
   ]
  },
  {
   "cell_type": "code",
   "execution_count": 2,
   "metadata": {},
   "outputs": [
    {
     "data": {
      "text/html": [
       "<div>\n",
       "<style scoped>\n",
       "    .dataframe tbody tr th:only-of-type {\n",
       "        vertical-align: middle;\n",
       "    }\n",
       "\n",
       "    .dataframe tbody tr th {\n",
       "        vertical-align: top;\n",
       "    }\n",
       "\n",
       "    .dataframe thead th {\n",
       "        text-align: right;\n",
       "    }\n",
       "</style>\n",
       "<table border=\"1\" class=\"dataframe\">\n",
       "  <thead>\n",
       "    <tr style=\"text-align: right;\">\n",
       "      <th></th>\n",
       "      <th>YEAR</th>\n",
       "      <th>MONTH</th>\n",
       "      <th>DAY_OF_WEEK</th>\n",
       "      <th>OP_CARRIER_AIRLINE_ID</th>\n",
       "      <th>OP_CARRIER_FL_NUM</th>\n",
       "      <th>ORIGIN_AIRPORT_ID</th>\n",
       "      <th>ORIGIN_AIRPORT_SEQ_ID</th>\n",
       "      <th>ORIGIN_CITY_MARKET_ID</th>\n",
       "      <th>ORIGIN</th>\n",
       "      <th>ORIGIN_CITY_NAME</th>\n",
       "      <th>...</th>\n",
       "      <th>ACTUAL_ELAPSED_TIME</th>\n",
       "      <th>FLIGHTS</th>\n",
       "      <th>DISTANCE</th>\n",
       "      <th>CARRIER_DELAY</th>\n",
       "      <th>WEATHER_DELAY</th>\n",
       "      <th>NAS_DELAY</th>\n",
       "      <th>SECURITY_DELAY</th>\n",
       "      <th>LATE_AIRCRAFT_DELAY</th>\n",
       "      <th>TOTAL_ADD_GTIME</th>\n",
       "      <th>DIV_AIRPORT_LANDINGS</th>\n",
       "    </tr>\n",
       "  </thead>\n",
       "  <tbody>\n",
       "    <tr>\n",
       "      <td>0</td>\n",
       "      <td>2018</td>\n",
       "      <td>10</td>\n",
       "      <td>1</td>\n",
       "      <td>19393</td>\n",
       "      <td>802</td>\n",
       "      <td>10140</td>\n",
       "      <td>1014005</td>\n",
       "      <td>30140</td>\n",
       "      <td>ABQ</td>\n",
       "      <td>Albuquerque, NM</td>\n",
       "      <td>...</td>\n",
       "      <td>210.0</td>\n",
       "      <td>1</td>\n",
       "      <td>1670</td>\n",
       "      <td>NaN</td>\n",
       "      <td>NaN</td>\n",
       "      <td>NaN</td>\n",
       "      <td>NaN</td>\n",
       "      <td>NaN</td>\n",
       "      <td>NaN</td>\n",
       "      <td>0</td>\n",
       "    </tr>\n",
       "    <tr>\n",
       "      <td>1</td>\n",
       "      <td>2018</td>\n",
       "      <td>10</td>\n",
       "      <td>1</td>\n",
       "      <td>19393</td>\n",
       "      <td>3744</td>\n",
       "      <td>10140</td>\n",
       "      <td>1014005</td>\n",
       "      <td>30140</td>\n",
       "      <td>ABQ</td>\n",
       "      <td>Albuquerque, NM</td>\n",
       "      <td>...</td>\n",
       "      <td>202.0</td>\n",
       "      <td>1</td>\n",
       "      <td>1670</td>\n",
       "      <td>NaN</td>\n",
       "      <td>NaN</td>\n",
       "      <td>NaN</td>\n",
       "      <td>NaN</td>\n",
       "      <td>NaN</td>\n",
       "      <td>NaN</td>\n",
       "      <td>0</td>\n",
       "    </tr>\n",
       "    <tr>\n",
       "      <td>2</td>\n",
       "      <td>2018</td>\n",
       "      <td>10</td>\n",
       "      <td>1</td>\n",
       "      <td>19393</td>\n",
       "      <td>1019</td>\n",
       "      <td>10140</td>\n",
       "      <td>1014005</td>\n",
       "      <td>30140</td>\n",
       "      <td>ABQ</td>\n",
       "      <td>Albuquerque, NM</td>\n",
       "      <td>...</td>\n",
       "      <td>90.0</td>\n",
       "      <td>1</td>\n",
       "      <td>580</td>\n",
       "      <td>NaN</td>\n",
       "      <td>NaN</td>\n",
       "      <td>NaN</td>\n",
       "      <td>NaN</td>\n",
       "      <td>NaN</td>\n",
       "      <td>NaN</td>\n",
       "      <td>0</td>\n",
       "    </tr>\n",
       "    <tr>\n",
       "      <td>3</td>\n",
       "      <td>2018</td>\n",
       "      <td>10</td>\n",
       "      <td>1</td>\n",
       "      <td>19393</td>\n",
       "      <td>1499</td>\n",
       "      <td>10140</td>\n",
       "      <td>1014005</td>\n",
       "      <td>30140</td>\n",
       "      <td>ABQ</td>\n",
       "      <td>Albuquerque, NM</td>\n",
       "      <td>...</td>\n",
       "      <td>96.0</td>\n",
       "      <td>1</td>\n",
       "      <td>580</td>\n",
       "      <td>NaN</td>\n",
       "      <td>NaN</td>\n",
       "      <td>NaN</td>\n",
       "      <td>NaN</td>\n",
       "      <td>NaN</td>\n",
       "      <td>NaN</td>\n",
       "      <td>0</td>\n",
       "    </tr>\n",
       "    <tr>\n",
       "      <td>4</td>\n",
       "      <td>2018</td>\n",
       "      <td>10</td>\n",
       "      <td>1</td>\n",
       "      <td>19393</td>\n",
       "      <td>3635</td>\n",
       "      <td>10140</td>\n",
       "      <td>1014005</td>\n",
       "      <td>30140</td>\n",
       "      <td>ABQ</td>\n",
       "      <td>Albuquerque, NM</td>\n",
       "      <td>...</td>\n",
       "      <td>92.0</td>\n",
       "      <td>1</td>\n",
       "      <td>580</td>\n",
       "      <td>NaN</td>\n",
       "      <td>NaN</td>\n",
       "      <td>NaN</td>\n",
       "      <td>NaN</td>\n",
       "      <td>NaN</td>\n",
       "      <td>NaN</td>\n",
       "      <td>0</td>\n",
       "    </tr>\n",
       "    <tr>\n",
       "      <td>...</td>\n",
       "      <td>...</td>\n",
       "      <td>...</td>\n",
       "      <td>...</td>\n",
       "      <td>...</td>\n",
       "      <td>...</td>\n",
       "      <td>...</td>\n",
       "      <td>...</td>\n",
       "      <td>...</td>\n",
       "      <td>...</td>\n",
       "      <td>...</td>\n",
       "      <td>...</td>\n",
       "      <td>...</td>\n",
       "      <td>...</td>\n",
       "      <td>...</td>\n",
       "      <td>...</td>\n",
       "      <td>...</td>\n",
       "      <td>...</td>\n",
       "      <td>...</td>\n",
       "      <td>...</td>\n",
       "      <td>...</td>\n",
       "      <td>...</td>\n",
       "    </tr>\n",
       "    <tr>\n",
       "      <td>523</td>\n",
       "      <td>2018</td>\n",
       "      <td>10</td>\n",
       "      <td>1</td>\n",
       "      <td>19393</td>\n",
       "      <td>2790</td>\n",
       "      <td>10821</td>\n",
       "      <td>1082106</td>\n",
       "      <td>30852</td>\n",
       "      <td>BWI</td>\n",
       "      <td>Baltimore, MD</td>\n",
       "      <td>...</td>\n",
       "      <td>58.0</td>\n",
       "      <td>1</td>\n",
       "      <td>281</td>\n",
       "      <td>NaN</td>\n",
       "      <td>NaN</td>\n",
       "      <td>NaN</td>\n",
       "      <td>NaN</td>\n",
       "      <td>NaN</td>\n",
       "      <td>NaN</td>\n",
       "      <td>0</td>\n",
       "    </tr>\n",
       "    <tr>\n",
       "      <td>524</td>\n",
       "      <td>2018</td>\n",
       "      <td>10</td>\n",
       "      <td>1</td>\n",
       "      <td>19393</td>\n",
       "      <td>2889</td>\n",
       "      <td>10821</td>\n",
       "      <td>1082106</td>\n",
       "      <td>30852</td>\n",
       "      <td>BWI</td>\n",
       "      <td>Baltimore, MD</td>\n",
       "      <td>...</td>\n",
       "      <td>62.0</td>\n",
       "      <td>1</td>\n",
       "      <td>281</td>\n",
       "      <td>NaN</td>\n",
       "      <td>NaN</td>\n",
       "      <td>NaN</td>\n",
       "      <td>NaN</td>\n",
       "      <td>NaN</td>\n",
       "      <td>NaN</td>\n",
       "      <td>0</td>\n",
       "    </tr>\n",
       "    <tr>\n",
       "      <td>525</td>\n",
       "      <td>2018</td>\n",
       "      <td>10</td>\n",
       "      <td>1</td>\n",
       "      <td>19393</td>\n",
       "      <td>2953</td>\n",
       "      <td>10821</td>\n",
       "      <td>1082106</td>\n",
       "      <td>30852</td>\n",
       "      <td>BWI</td>\n",
       "      <td>Baltimore, MD</td>\n",
       "      <td>...</td>\n",
       "      <td>56.0</td>\n",
       "      <td>1</td>\n",
       "      <td>281</td>\n",
       "      <td>NaN</td>\n",
       "      <td>NaN</td>\n",
       "      <td>NaN</td>\n",
       "      <td>NaN</td>\n",
       "      <td>NaN</td>\n",
       "      <td>NaN</td>\n",
       "      <td>0</td>\n",
       "    </tr>\n",
       "    <tr>\n",
       "      <td>526</td>\n",
       "      <td>2018</td>\n",
       "      <td>10</td>\n",
       "      <td>1</td>\n",
       "      <td>19393</td>\n",
       "      <td>3617</td>\n",
       "      <td>10821</td>\n",
       "      <td>1082106</td>\n",
       "      <td>30852</td>\n",
       "      <td>BWI</td>\n",
       "      <td>Baltimore, MD</td>\n",
       "      <td>...</td>\n",
       "      <td>66.0</td>\n",
       "      <td>1</td>\n",
       "      <td>281</td>\n",
       "      <td>NaN</td>\n",
       "      <td>NaN</td>\n",
       "      <td>NaN</td>\n",
       "      <td>NaN</td>\n",
       "      <td>NaN</td>\n",
       "      <td>NaN</td>\n",
       "      <td>0</td>\n",
       "    </tr>\n",
       "    <tr>\n",
       "      <td>527</td>\n",
       "      <td>2018</td>\n",
       "      <td>10</td>\n",
       "      <td>1</td>\n",
       "      <td>19393</td>\n",
       "      <td>3916</td>\n",
       "      <td>10821</td>\n",
       "      <td>1082106</td>\n",
       "      <td>30852</td>\n",
       "      <td>BWI</td>\n",
       "      <td>Baltimore, MD</td>\n",
       "      <td>...</td>\n",
       "      <td>68.0</td>\n",
       "      <td>1</td>\n",
       "      <td>281</td>\n",
       "      <td>NaN</td>\n",
       "      <td>NaN</td>\n",
       "      <td>NaN</td>\n",
       "      <td>NaN</td>\n",
       "      <td>NaN</td>\n",
       "      <td>NaN</td>\n",
       "      <td>0</td>\n",
       "    </tr>\n",
       "  </tbody>\n",
       "</table>\n",
       "<p>528 rows × 53 columns</p>\n",
       "</div>"
      ],
      "text/plain": [
       "     YEAR  MONTH  DAY_OF_WEEK  OP_CARRIER_AIRLINE_ID  OP_CARRIER_FL_NUM  \\\n",
       "0    2018     10            1                  19393                802   \n",
       "1    2018     10            1                  19393               3744   \n",
       "2    2018     10            1                  19393               1019   \n",
       "3    2018     10            1                  19393               1499   \n",
       "4    2018     10            1                  19393               3635   \n",
       "..    ...    ...          ...                    ...                ...   \n",
       "523  2018     10            1                  19393               2790   \n",
       "524  2018     10            1                  19393               2889   \n",
       "525  2018     10            1                  19393               2953   \n",
       "526  2018     10            1                  19393               3617   \n",
       "527  2018     10            1                  19393               3916   \n",
       "\n",
       "     ORIGIN_AIRPORT_ID  ORIGIN_AIRPORT_SEQ_ID  ORIGIN_CITY_MARKET_ID ORIGIN  \\\n",
       "0                10140                1014005                  30140    ABQ   \n",
       "1                10140                1014005                  30140    ABQ   \n",
       "2                10140                1014005                  30140    ABQ   \n",
       "3                10140                1014005                  30140    ABQ   \n",
       "4                10140                1014005                  30140    ABQ   \n",
       "..                 ...                    ...                    ...    ...   \n",
       "523              10821                1082106                  30852    BWI   \n",
       "524              10821                1082106                  30852    BWI   \n",
       "525              10821                1082106                  30852    BWI   \n",
       "526              10821                1082106                  30852    BWI   \n",
       "527              10821                1082106                  30852    BWI   \n",
       "\n",
       "    ORIGIN_CITY_NAME  ... ACTUAL_ELAPSED_TIME FLIGHTS  DISTANCE  \\\n",
       "0    Albuquerque, NM  ...               210.0       1      1670   \n",
       "1    Albuquerque, NM  ...               202.0       1      1670   \n",
       "2    Albuquerque, NM  ...                90.0       1       580   \n",
       "3    Albuquerque, NM  ...                96.0       1       580   \n",
       "4    Albuquerque, NM  ...                92.0       1       580   \n",
       "..               ...  ...                 ...     ...       ...   \n",
       "523    Baltimore, MD  ...                58.0       1       281   \n",
       "524    Baltimore, MD  ...                62.0       1       281   \n",
       "525    Baltimore, MD  ...                56.0       1       281   \n",
       "526    Baltimore, MD  ...                66.0       1       281   \n",
       "527    Baltimore, MD  ...                68.0       1       281   \n",
       "\n",
       "     CARRIER_DELAY  WEATHER_DELAY  NAS_DELAY SECURITY_DELAY  \\\n",
       "0              NaN            NaN        NaN            NaN   \n",
       "1              NaN            NaN        NaN            NaN   \n",
       "2              NaN            NaN        NaN            NaN   \n",
       "3              NaN            NaN        NaN            NaN   \n",
       "4              NaN            NaN        NaN            NaN   \n",
       "..             ...            ...        ...            ...   \n",
       "523            NaN            NaN        NaN            NaN   \n",
       "524            NaN            NaN        NaN            NaN   \n",
       "525            NaN            NaN        NaN            NaN   \n",
       "526            NaN            NaN        NaN            NaN   \n",
       "527            NaN            NaN        NaN            NaN   \n",
       "\n",
       "    LATE_AIRCRAFT_DELAY TOTAL_ADD_GTIME DIV_AIRPORT_LANDINGS  \n",
       "0                   NaN             NaN                    0  \n",
       "1                   NaN             NaN                    0  \n",
       "2                   NaN             NaN                    0  \n",
       "3                   NaN             NaN                    0  \n",
       "4                   NaN             NaN                    0  \n",
       "..                  ...             ...                  ...  \n",
       "523                 NaN             NaN                    0  \n",
       "524                 NaN             NaN                    0  \n",
       "525                 NaN             NaN                    0  \n",
       "526                 NaN             NaN                    0  \n",
       "527                 NaN             NaN                    0  \n",
       "\n",
       "[528 rows x 53 columns]"
      ]
     },
     "execution_count": 2,
     "metadata": {},
     "output_type": "execute_result"
    }
   ],
   "source": [
    "location = \"demotimelyflights.csv\"\n",
    "df = pd.read_csv(location)\n",
    "df"
   ]
  },
  {
   "cell_type": "code",
   "execution_count": 3,
   "metadata": {},
   "outputs": [
    {
     "data": {
      "text/plain": [
       "YEAR                       0\n",
       "MONTH                      0\n",
       "DAY_OF_WEEK                0\n",
       "OP_CARRIER_AIRLINE_ID      0\n",
       "OP_CARRIER_FL_NUM          0\n",
       "ORIGIN_AIRPORT_ID          0\n",
       "ORIGIN_AIRPORT_SEQ_ID      0\n",
       "ORIGIN_CITY_MARKET_ID      0\n",
       "ORIGIN                     0\n",
       "ORIGIN_CITY_NAME           0\n",
       "ORIGIN_STATE_ABR           0\n",
       "ORIGIN_STATE_NM            0\n",
       "ORIGIN_WAC                 0\n",
       "DEST_AIRPORT_ID            0\n",
       "DEST_AIRPORT_SEQ_ID        0\n",
       "DEST_CITY_MARKET_ID        0\n",
       "DEST                       0\n",
       "DEST_CITY_NAME             0\n",
       "DEST_STATE_ABR             0\n",
       "DEST_STATE_NM              0\n",
       "DEST_WAC                   0\n",
       "CRS_DEP_TIME               0\n",
       "DEP_TIME                   3\n",
       "DEP_DELAY                  3\n",
       "DEP_DELAY_NEW              3\n",
       "DEP_DEL15                  3\n",
       "DEP_DELAY_GROUP            3\n",
       "DEP_TIME_BLK               0\n",
       "TAXI_OUT                   3\n",
       "WHEELS_OFF                 3\n",
       "WHEELS_ON                  3\n",
       "TAXI_IN                    3\n",
       "CRS_ARR_TIME               0\n",
       "ARR_TIME                   3\n",
       "ARR_DELAY                  3\n",
       "ARR_DELAY_NEW              3\n",
       "ARR_DEL15                  3\n",
       "ARR_DELAY_GROUP            3\n",
       "ARR_TIME_BLK               0\n",
       "CANCELLED                  0\n",
       "CANCELLATION_CODE        525\n",
       "DIVERTED                   0\n",
       "CRS_ELAPSED_TIME           0\n",
       "ACTUAL_ELAPSED_TIME        3\n",
       "FLIGHTS                    0\n",
       "DISTANCE                   0\n",
       "CARRIER_DELAY            470\n",
       "WEATHER_DELAY            470\n",
       "NAS_DELAY                470\n",
       "SECURITY_DELAY           470\n",
       "LATE_AIRCRAFT_DELAY      470\n",
       "TOTAL_ADD_GTIME          526\n",
       "DIV_AIRPORT_LANDINGS       0\n",
       "dtype: int64"
      ]
     },
     "execution_count": 3,
     "metadata": {},
     "output_type": "execute_result"
    }
   ],
   "source": [
    "df.isnull().sum()"
   ]
  },
  {
   "cell_type": "code",
   "execution_count": 4,
   "metadata": {},
   "outputs": [
    {
     "data": {
      "text/html": [
       "<div>\n",
       "<style scoped>\n",
       "    .dataframe tbody tr th:only-of-type {\n",
       "        vertical-align: middle;\n",
       "    }\n",
       "\n",
       "    .dataframe tbody tr th {\n",
       "        vertical-align: top;\n",
       "    }\n",
       "\n",
       "    .dataframe thead th {\n",
       "        text-align: right;\n",
       "    }\n",
       "</style>\n",
       "<table border=\"1\" class=\"dataframe\">\n",
       "  <thead>\n",
       "    <tr style=\"text-align: right;\">\n",
       "      <th></th>\n",
       "      <th>YEAR</th>\n",
       "      <th>MONTH</th>\n",
       "      <th>DAY_OF_WEEK</th>\n",
       "      <th>OP_CARRIER_AIRLINE_ID</th>\n",
       "      <th>OP_CARRIER_FL_NUM</th>\n",
       "      <th>ORIGIN_AIRPORT_ID</th>\n",
       "      <th>ORIGIN_AIRPORT_SEQ_ID</th>\n",
       "      <th>ORIGIN_CITY_MARKET_ID</th>\n",
       "      <th>ORIGIN</th>\n",
       "      <th>ORIGIN_CITY_NAME</th>\n",
       "      <th>...</th>\n",
       "      <th>ACTUAL_ELAPSED_TIME</th>\n",
       "      <th>FLIGHTS</th>\n",
       "      <th>DISTANCE</th>\n",
       "      <th>CARRIER_DELAY</th>\n",
       "      <th>WEATHER_DELAY</th>\n",
       "      <th>NAS_DELAY</th>\n",
       "      <th>SECURITY_DELAY</th>\n",
       "      <th>LATE_AIRCRAFT_DELAY</th>\n",
       "      <th>TOTAL_ADD_GTIME</th>\n",
       "      <th>DIV_AIRPORT_LANDINGS</th>\n",
       "    </tr>\n",
       "  </thead>\n",
       "  <tbody>\n",
       "    <tr>\n",
       "      <td>179</td>\n",
       "      <td>2018</td>\n",
       "      <td>10</td>\n",
       "      <td>1</td>\n",
       "      <td>19393</td>\n",
       "      <td>1769</td>\n",
       "      <td>10423</td>\n",
       "      <td>1042302</td>\n",
       "      <td>30423</td>\n",
       "      <td>AUS</td>\n",
       "      <td>Austin, TX</td>\n",
       "      <td>...</td>\n",
       "      <td>NaN</td>\n",
       "      <td>1</td>\n",
       "      <td>189</td>\n",
       "      <td>NaN</td>\n",
       "      <td>NaN</td>\n",
       "      <td>NaN</td>\n",
       "      <td>NaN</td>\n",
       "      <td>NaN</td>\n",
       "      <td>NaN</td>\n",
       "      <td>0</td>\n",
       "    </tr>\n",
       "    <tr>\n",
       "      <td>390</td>\n",
       "      <td>2018</td>\n",
       "      <td>10</td>\n",
       "      <td>1</td>\n",
       "      <td>19393</td>\n",
       "      <td>3431</td>\n",
       "      <td>10721</td>\n",
       "      <td>1072102</td>\n",
       "      <td>30721</td>\n",
       "      <td>BOS</td>\n",
       "      <td>Boston, MA</td>\n",
       "      <td>...</td>\n",
       "      <td>NaN</td>\n",
       "      <td>1</td>\n",
       "      <td>369</td>\n",
       "      <td>NaN</td>\n",
       "      <td>NaN</td>\n",
       "      <td>NaN</td>\n",
       "      <td>NaN</td>\n",
       "      <td>NaN</td>\n",
       "      <td>NaN</td>\n",
       "      <td>0</td>\n",
       "    </tr>\n",
       "    <tr>\n",
       "      <td>518</td>\n",
       "      <td>2018</td>\n",
       "      <td>10</td>\n",
       "      <td>1</td>\n",
       "      <td>19393</td>\n",
       "      <td>3430</td>\n",
       "      <td>10821</td>\n",
       "      <td>1082106</td>\n",
       "      <td>30852</td>\n",
       "      <td>BWI</td>\n",
       "      <td>Baltimore, MD</td>\n",
       "      <td>...</td>\n",
       "      <td>NaN</td>\n",
       "      <td>1</td>\n",
       "      <td>369</td>\n",
       "      <td>NaN</td>\n",
       "      <td>NaN</td>\n",
       "      <td>NaN</td>\n",
       "      <td>NaN</td>\n",
       "      <td>NaN</td>\n",
       "      <td>NaN</td>\n",
       "      <td>0</td>\n",
       "    </tr>\n",
       "  </tbody>\n",
       "</table>\n",
       "<p>3 rows × 53 columns</p>\n",
       "</div>"
      ],
      "text/plain": [
       "     YEAR  MONTH  DAY_OF_WEEK  OP_CARRIER_AIRLINE_ID  OP_CARRIER_FL_NUM  \\\n",
       "179  2018     10            1                  19393               1769   \n",
       "390  2018     10            1                  19393               3431   \n",
       "518  2018     10            1                  19393               3430   \n",
       "\n",
       "     ORIGIN_AIRPORT_ID  ORIGIN_AIRPORT_SEQ_ID  ORIGIN_CITY_MARKET_ID ORIGIN  \\\n",
       "179              10423                1042302                  30423    AUS   \n",
       "390              10721                1072102                  30721    BOS   \n",
       "518              10821                1082106                  30852    BWI   \n",
       "\n",
       "    ORIGIN_CITY_NAME  ... ACTUAL_ELAPSED_TIME FLIGHTS  DISTANCE  \\\n",
       "179       Austin, TX  ...                 NaN       1       189   \n",
       "390       Boston, MA  ...                 NaN       1       369   \n",
       "518    Baltimore, MD  ...                 NaN       1       369   \n",
       "\n",
       "     CARRIER_DELAY  WEATHER_DELAY  NAS_DELAY SECURITY_DELAY  \\\n",
       "179            NaN            NaN        NaN            NaN   \n",
       "390            NaN            NaN        NaN            NaN   \n",
       "518            NaN            NaN        NaN            NaN   \n",
       "\n",
       "    LATE_AIRCRAFT_DELAY TOTAL_ADD_GTIME DIV_AIRPORT_LANDINGS  \n",
       "179                 NaN             NaN                    0  \n",
       "390                 NaN             NaN                    0  \n",
       "518                 NaN             NaN                    0  \n",
       "\n",
       "[3 rows x 53 columns]"
      ]
     },
     "execution_count": 4,
     "metadata": {},
     "output_type": "execute_result"
    }
   ],
   "source": [
    "missing = df.loc[df['DEP_DELAY'].isnull()]\n",
    "missing.head()"
   ]
  },
  {
   "cell_type": "code",
   "execution_count": 5,
   "metadata": {},
   "outputs": [],
   "source": [
    "df['CARRIER_DELAY'].fillna(0, inplace=True)\n",
    "df['WEATHER_DELAY'].fillna(0, inplace=True)\n",
    "df['NAS_DELAY'].fillna(0, inplace=True)\n",
    "df['SECURITY_DELAY'].fillna(0, inplace=True)\n",
    "df['LATE_AIRCRAFT_DELAY'].fillna(0, inplace=True)"
   ]
  },
  {
   "cell_type": "code",
   "execution_count": 6,
   "metadata": {},
   "outputs": [
    {
     "data": {
      "text/plain": [
       "YEAR                       0\n",
       "MONTH                      0\n",
       "DAY_OF_WEEK                0\n",
       "OP_CARRIER_AIRLINE_ID      0\n",
       "OP_CARRIER_FL_NUM          0\n",
       "ORIGIN_AIRPORT_ID          0\n",
       "ORIGIN_AIRPORT_SEQ_ID      0\n",
       "ORIGIN_CITY_MARKET_ID      0\n",
       "ORIGIN                     0\n",
       "ORIGIN_CITY_NAME           0\n",
       "ORIGIN_STATE_ABR           0\n",
       "ORIGIN_STATE_NM            0\n",
       "ORIGIN_WAC                 0\n",
       "DEST_AIRPORT_ID            0\n",
       "DEST_AIRPORT_SEQ_ID        0\n",
       "DEST_CITY_MARKET_ID        0\n",
       "DEST                       0\n",
       "DEST_CITY_NAME             0\n",
       "DEST_STATE_ABR             0\n",
       "DEST_STATE_NM              0\n",
       "DEST_WAC                   0\n",
       "CRS_DEP_TIME               0\n",
       "DEP_TIME                   3\n",
       "DEP_DELAY                  3\n",
       "DEP_DELAY_NEW              3\n",
       "DEP_DEL15                  3\n",
       "DEP_DELAY_GROUP            3\n",
       "DEP_TIME_BLK               0\n",
       "TAXI_OUT                   3\n",
       "WHEELS_OFF                 3\n",
       "WHEELS_ON                  3\n",
       "TAXI_IN                    3\n",
       "CRS_ARR_TIME               0\n",
       "ARR_TIME                   3\n",
       "ARR_DELAY                  3\n",
       "ARR_DELAY_NEW              3\n",
       "ARR_DEL15                  3\n",
       "ARR_DELAY_GROUP            3\n",
       "ARR_TIME_BLK               0\n",
       "CANCELLED                  0\n",
       "CANCELLATION_CODE        525\n",
       "DIVERTED                   0\n",
       "CRS_ELAPSED_TIME           0\n",
       "ACTUAL_ELAPSED_TIME        3\n",
       "FLIGHTS                    0\n",
       "DISTANCE                   0\n",
       "CARRIER_DELAY              0\n",
       "WEATHER_DELAY              0\n",
       "NAS_DELAY                  0\n",
       "SECURITY_DELAY             0\n",
       "LATE_AIRCRAFT_DELAY        0\n",
       "TOTAL_ADD_GTIME          526\n",
       "DIV_AIRPORT_LANDINGS       0\n",
       "dtype: int64"
      ]
     },
     "execution_count": 6,
     "metadata": {},
     "output_type": "execute_result"
    }
   ],
   "source": [
    "df.isnull().sum()"
   ]
  },
  {
   "cell_type": "code",
   "execution_count": 7,
   "metadata": {},
   "outputs": [
    {
     "data": {
      "text/html": [
       "<div>\n",
       "<style scoped>\n",
       "    .dataframe tbody tr th:only-of-type {\n",
       "        vertical-align: middle;\n",
       "    }\n",
       "\n",
       "    .dataframe tbody tr th {\n",
       "        vertical-align: top;\n",
       "    }\n",
       "\n",
       "    .dataframe thead th {\n",
       "        text-align: right;\n",
       "    }\n",
       "</style>\n",
       "<table border=\"1\" class=\"dataframe\">\n",
       "  <thead>\n",
       "    <tr style=\"text-align: right;\">\n",
       "      <th></th>\n",
       "      <th>DAY_OF_WEEK</th>\n",
       "      <th>OP_CARRIER_AIRLINE_ID</th>\n",
       "      <th>OP_CARRIER_FL_NUM</th>\n",
       "      <th>ORIGIN_AIRPORT_ID</th>\n",
       "      <th>ORIGIN_AIRPORT_SEQ_ID</th>\n",
       "      <th>ORIGIN_CITY_MARKET_ID</th>\n",
       "      <th>ORIGIN</th>\n",
       "      <th>ORIGIN_CITY_NAME</th>\n",
       "      <th>ORIGIN_STATE_ABR</th>\n",
       "      <th>ORIGIN_STATE_NM</th>\n",
       "      <th>...</th>\n",
       "      <th>CRS_ELAPSED_TIME</th>\n",
       "      <th>ACTUAL_ELAPSED_TIME</th>\n",
       "      <th>FLIGHTS</th>\n",
       "      <th>DISTANCE</th>\n",
       "      <th>CARRIER_DELAY</th>\n",
       "      <th>WEATHER_DELAY</th>\n",
       "      <th>NAS_DELAY</th>\n",
       "      <th>SECURITY_DELAY</th>\n",
       "      <th>LATE_AIRCRAFT_DELAY</th>\n",
       "      <th>DIV_AIRPORT_LANDINGS</th>\n",
       "    </tr>\n",
       "  </thead>\n",
       "  <tbody>\n",
       "    <tr>\n",
       "      <td>0</td>\n",
       "      <td>1</td>\n",
       "      <td>19393</td>\n",
       "      <td>802</td>\n",
       "      <td>10140</td>\n",
       "      <td>1014005</td>\n",
       "      <td>30140</td>\n",
       "      <td>ABQ</td>\n",
       "      <td>Albuquerque, NM</td>\n",
       "      <td>NM</td>\n",
       "      <td>New Mexico</td>\n",
       "      <td>...</td>\n",
       "      <td>225</td>\n",
       "      <td>210.0</td>\n",
       "      <td>1</td>\n",
       "      <td>1670</td>\n",
       "      <td>0.0</td>\n",
       "      <td>0.0</td>\n",
       "      <td>0.0</td>\n",
       "      <td>0.0</td>\n",
       "      <td>0.0</td>\n",
       "      <td>0</td>\n",
       "    </tr>\n",
       "    <tr>\n",
       "      <td>1</td>\n",
       "      <td>1</td>\n",
       "      <td>19393</td>\n",
       "      <td>3744</td>\n",
       "      <td>10140</td>\n",
       "      <td>1014005</td>\n",
       "      <td>30140</td>\n",
       "      <td>ABQ</td>\n",
       "      <td>Albuquerque, NM</td>\n",
       "      <td>NM</td>\n",
       "      <td>New Mexico</td>\n",
       "      <td>...</td>\n",
       "      <td>225</td>\n",
       "      <td>202.0</td>\n",
       "      <td>1</td>\n",
       "      <td>1670</td>\n",
       "      <td>0.0</td>\n",
       "      <td>0.0</td>\n",
       "      <td>0.0</td>\n",
       "      <td>0.0</td>\n",
       "      <td>0.0</td>\n",
       "      <td>0</td>\n",
       "    </tr>\n",
       "    <tr>\n",
       "      <td>2</td>\n",
       "      <td>1</td>\n",
       "      <td>19393</td>\n",
       "      <td>1019</td>\n",
       "      <td>10140</td>\n",
       "      <td>1014005</td>\n",
       "      <td>30140</td>\n",
       "      <td>ABQ</td>\n",
       "      <td>Albuquerque, NM</td>\n",
       "      <td>NM</td>\n",
       "      <td>New Mexico</td>\n",
       "      <td>...</td>\n",
       "      <td>105</td>\n",
       "      <td>90.0</td>\n",
       "      <td>1</td>\n",
       "      <td>580</td>\n",
       "      <td>0.0</td>\n",
       "      <td>0.0</td>\n",
       "      <td>0.0</td>\n",
       "      <td>0.0</td>\n",
       "      <td>0.0</td>\n",
       "      <td>0</td>\n",
       "    </tr>\n",
       "    <tr>\n",
       "      <td>3</td>\n",
       "      <td>1</td>\n",
       "      <td>19393</td>\n",
       "      <td>1499</td>\n",
       "      <td>10140</td>\n",
       "      <td>1014005</td>\n",
       "      <td>30140</td>\n",
       "      <td>ABQ</td>\n",
       "      <td>Albuquerque, NM</td>\n",
       "      <td>NM</td>\n",
       "      <td>New Mexico</td>\n",
       "      <td>...</td>\n",
       "      <td>105</td>\n",
       "      <td>96.0</td>\n",
       "      <td>1</td>\n",
       "      <td>580</td>\n",
       "      <td>0.0</td>\n",
       "      <td>0.0</td>\n",
       "      <td>0.0</td>\n",
       "      <td>0.0</td>\n",
       "      <td>0.0</td>\n",
       "      <td>0</td>\n",
       "    </tr>\n",
       "    <tr>\n",
       "      <td>4</td>\n",
       "      <td>1</td>\n",
       "      <td>19393</td>\n",
       "      <td>3635</td>\n",
       "      <td>10140</td>\n",
       "      <td>1014005</td>\n",
       "      <td>30140</td>\n",
       "      <td>ABQ</td>\n",
       "      <td>Albuquerque, NM</td>\n",
       "      <td>NM</td>\n",
       "      <td>New Mexico</td>\n",
       "      <td>...</td>\n",
       "      <td>100</td>\n",
       "      <td>92.0</td>\n",
       "      <td>1</td>\n",
       "      <td>580</td>\n",
       "      <td>0.0</td>\n",
       "      <td>0.0</td>\n",
       "      <td>0.0</td>\n",
       "      <td>0.0</td>\n",
       "      <td>0.0</td>\n",
       "      <td>0</td>\n",
       "    </tr>\n",
       "  </tbody>\n",
       "</table>\n",
       "<p>5 rows × 45 columns</p>\n",
       "</div>"
      ],
      "text/plain": [
       "   DAY_OF_WEEK  OP_CARRIER_AIRLINE_ID  OP_CARRIER_FL_NUM  ORIGIN_AIRPORT_ID  \\\n",
       "0            1                  19393                802              10140   \n",
       "1            1                  19393               3744              10140   \n",
       "2            1                  19393               1019              10140   \n",
       "3            1                  19393               1499              10140   \n",
       "4            1                  19393               3635              10140   \n",
       "\n",
       "   ORIGIN_AIRPORT_SEQ_ID  ORIGIN_CITY_MARKET_ID ORIGIN ORIGIN_CITY_NAME  \\\n",
       "0                1014005                  30140    ABQ  Albuquerque, NM   \n",
       "1                1014005                  30140    ABQ  Albuquerque, NM   \n",
       "2                1014005                  30140    ABQ  Albuquerque, NM   \n",
       "3                1014005                  30140    ABQ  Albuquerque, NM   \n",
       "4                1014005                  30140    ABQ  Albuquerque, NM   \n",
       "\n",
       "  ORIGIN_STATE_ABR ORIGIN_STATE_NM  ...  CRS_ELAPSED_TIME  \\\n",
       "0               NM      New Mexico  ...               225   \n",
       "1               NM      New Mexico  ...               225   \n",
       "2               NM      New Mexico  ...               105   \n",
       "3               NM      New Mexico  ...               105   \n",
       "4               NM      New Mexico  ...               100   \n",
       "\n",
       "   ACTUAL_ELAPSED_TIME  FLIGHTS  DISTANCE CARRIER_DELAY WEATHER_DELAY  \\\n",
       "0                210.0        1      1670           0.0           0.0   \n",
       "1                202.0        1      1670           0.0           0.0   \n",
       "2                 90.0        1       580           0.0           0.0   \n",
       "3                 96.0        1       580           0.0           0.0   \n",
       "4                 92.0        1       580           0.0           0.0   \n",
       "\n",
       "  NAS_DELAY SECURITY_DELAY  LATE_AIRCRAFT_DELAY  DIV_AIRPORT_LANDINGS  \n",
       "0       0.0            0.0                  0.0                     0  \n",
       "1       0.0            0.0                  0.0                     0  \n",
       "2       0.0            0.0                  0.0                     0  \n",
       "3       0.0            0.0                  0.0                     0  \n",
       "4       0.0            0.0                  0.0                     0  \n",
       "\n",
       "[5 rows x 45 columns]"
      ]
     },
     "execution_count": 7,
     "metadata": {},
     "output_type": "execute_result"
    }
   ],
   "source": [
    "newdf = df.drop(['YEAR','MONTH','TAXI_OUT','WHEELS_OFF','WHEELS_ON','TAXI_IN','CANCELLATION_CODE','TOTAL_ADD_GTIME'], axis=1)\n",
    "newdf.head()"
   ]
  },
  {
   "cell_type": "code",
   "execution_count": 8,
   "metadata": {},
   "outputs": [
    {
     "data": {
      "text/plain": [
       "DAY_OF_WEEK              0\n",
       "OP_CARRIER_AIRLINE_ID    0\n",
       "OP_CARRIER_FL_NUM        0\n",
       "ORIGIN_AIRPORT_ID        0\n",
       "ORIGIN_AIRPORT_SEQ_ID    0\n",
       "ORIGIN_CITY_MARKET_ID    0\n",
       "ORIGIN                   0\n",
       "ORIGIN_CITY_NAME         0\n",
       "ORIGIN_STATE_ABR         0\n",
       "ORIGIN_STATE_NM          0\n",
       "ORIGIN_WAC               0\n",
       "DEST_AIRPORT_ID          0\n",
       "DEST_AIRPORT_SEQ_ID      0\n",
       "DEST_CITY_MARKET_ID      0\n",
       "DEST                     0\n",
       "DEST_CITY_NAME           0\n",
       "DEST_STATE_ABR           0\n",
       "DEST_STATE_NM            0\n",
       "DEST_WAC                 0\n",
       "CRS_DEP_TIME             0\n",
       "DEP_TIME                 3\n",
       "DEP_DELAY                3\n",
       "DEP_DELAY_NEW            3\n",
       "DEP_DEL15                3\n",
       "DEP_DELAY_GROUP          3\n",
       "DEP_TIME_BLK             0\n",
       "CRS_ARR_TIME             0\n",
       "ARR_TIME                 3\n",
       "ARR_DELAY                3\n",
       "ARR_DELAY_NEW            3\n",
       "ARR_DEL15                3\n",
       "ARR_DELAY_GROUP          3\n",
       "ARR_TIME_BLK             0\n",
       "CANCELLED                0\n",
       "DIVERTED                 0\n",
       "CRS_ELAPSED_TIME         0\n",
       "ACTUAL_ELAPSED_TIME      3\n",
       "FLIGHTS                  0\n",
       "DISTANCE                 0\n",
       "CARRIER_DELAY            0\n",
       "WEATHER_DELAY            0\n",
       "NAS_DELAY                0\n",
       "SECURITY_DELAY           0\n",
       "LATE_AIRCRAFT_DELAY      0\n",
       "DIV_AIRPORT_LANDINGS     0\n",
       "dtype: int64"
      ]
     },
     "execution_count": 8,
     "metadata": {},
     "output_type": "execute_result"
    }
   ],
   "source": [
    "newdf.isnull().sum()"
   ]
  },
  {
   "cell_type": "code",
   "execution_count": 9,
   "metadata": {},
   "outputs": [
    {
     "data": {
      "text/html": [
       "<div>\n",
       "<style scoped>\n",
       "    .dataframe tbody tr th:only-of-type {\n",
       "        vertical-align: middle;\n",
       "    }\n",
       "\n",
       "    .dataframe tbody tr th {\n",
       "        vertical-align: top;\n",
       "    }\n",
       "\n",
       "    .dataframe thead th {\n",
       "        text-align: right;\n",
       "    }\n",
       "</style>\n",
       "<table border=\"1\" class=\"dataframe\">\n",
       "  <thead>\n",
       "    <tr style=\"text-align: right;\">\n",
       "      <th></th>\n",
       "      <th>DAY_OF_WEEK</th>\n",
       "      <th>OP_CARRIER_AIRLINE_ID</th>\n",
       "      <th>OP_CARRIER_FL_NUM</th>\n",
       "      <th>ORIGIN_AIRPORT_ID</th>\n",
       "      <th>ORIGIN_AIRPORT_SEQ_ID</th>\n",
       "      <th>ORIGIN_CITY_MARKET_ID</th>\n",
       "      <th>ORIGIN</th>\n",
       "      <th>ORIGIN_CITY_NAME</th>\n",
       "      <th>ORIGIN_STATE_ABR</th>\n",
       "      <th>ORIGIN_STATE_NM</th>\n",
       "      <th>...</th>\n",
       "      <th>CRS_ELAPSED_TIME</th>\n",
       "      <th>ACTUAL_ELAPSED_TIME</th>\n",
       "      <th>FLIGHTS</th>\n",
       "      <th>DISTANCE</th>\n",
       "      <th>CARRIER_DELAY</th>\n",
       "      <th>WEATHER_DELAY</th>\n",
       "      <th>NAS_DELAY</th>\n",
       "      <th>SECURITY_DELAY</th>\n",
       "      <th>LATE_AIRCRAFT_DELAY</th>\n",
       "      <th>DIV_AIRPORT_LANDINGS</th>\n",
       "    </tr>\n",
       "  </thead>\n",
       "  <tbody>\n",
       "    <tr>\n",
       "      <td>179</td>\n",
       "      <td>1</td>\n",
       "      <td>19393</td>\n",
       "      <td>1769</td>\n",
       "      <td>10423</td>\n",
       "      <td>1042302</td>\n",
       "      <td>30423</td>\n",
       "      <td>AUS</td>\n",
       "      <td>Austin, TX</td>\n",
       "      <td>TX</td>\n",
       "      <td>Texas</td>\n",
       "      <td>...</td>\n",
       "      <td>55</td>\n",
       "      <td>NaN</td>\n",
       "      <td>1</td>\n",
       "      <td>189</td>\n",
       "      <td>0.0</td>\n",
       "      <td>0.0</td>\n",
       "      <td>0.0</td>\n",
       "      <td>0.0</td>\n",
       "      <td>0.0</td>\n",
       "      <td>0</td>\n",
       "    </tr>\n",
       "    <tr>\n",
       "      <td>390</td>\n",
       "      <td>1</td>\n",
       "      <td>19393</td>\n",
       "      <td>3431</td>\n",
       "      <td>10721</td>\n",
       "      <td>1072102</td>\n",
       "      <td>30721</td>\n",
       "      <td>BOS</td>\n",
       "      <td>Boston, MA</td>\n",
       "      <td>MA</td>\n",
       "      <td>Massachusetts</td>\n",
       "      <td>...</td>\n",
       "      <td>95</td>\n",
       "      <td>NaN</td>\n",
       "      <td>1</td>\n",
       "      <td>369</td>\n",
       "      <td>0.0</td>\n",
       "      <td>0.0</td>\n",
       "      <td>0.0</td>\n",
       "      <td>0.0</td>\n",
       "      <td>0.0</td>\n",
       "      <td>0</td>\n",
       "    </tr>\n",
       "    <tr>\n",
       "      <td>518</td>\n",
       "      <td>1</td>\n",
       "      <td>19393</td>\n",
       "      <td>3430</td>\n",
       "      <td>10821</td>\n",
       "      <td>1082106</td>\n",
       "      <td>30852</td>\n",
       "      <td>BWI</td>\n",
       "      <td>Baltimore, MD</td>\n",
       "      <td>MD</td>\n",
       "      <td>Maryland</td>\n",
       "      <td>...</td>\n",
       "      <td>85</td>\n",
       "      <td>NaN</td>\n",
       "      <td>1</td>\n",
       "      <td>369</td>\n",
       "      <td>0.0</td>\n",
       "      <td>0.0</td>\n",
       "      <td>0.0</td>\n",
       "      <td>0.0</td>\n",
       "      <td>0.0</td>\n",
       "      <td>0</td>\n",
       "    </tr>\n",
       "  </tbody>\n",
       "</table>\n",
       "<p>3 rows × 45 columns</p>\n",
       "</div>"
      ],
      "text/plain": [
       "     DAY_OF_WEEK  OP_CARRIER_AIRLINE_ID  OP_CARRIER_FL_NUM  ORIGIN_AIRPORT_ID  \\\n",
       "179            1                  19393               1769              10423   \n",
       "390            1                  19393               3431              10721   \n",
       "518            1                  19393               3430              10821   \n",
       "\n",
       "     ORIGIN_AIRPORT_SEQ_ID  ORIGIN_CITY_MARKET_ID ORIGIN ORIGIN_CITY_NAME  \\\n",
       "179                1042302                  30423    AUS       Austin, TX   \n",
       "390                1072102                  30721    BOS       Boston, MA   \n",
       "518                1082106                  30852    BWI    Baltimore, MD   \n",
       "\n",
       "    ORIGIN_STATE_ABR ORIGIN_STATE_NM  ...  CRS_ELAPSED_TIME  \\\n",
       "179               TX           Texas  ...                55   \n",
       "390               MA   Massachusetts  ...                95   \n",
       "518               MD        Maryland  ...                85   \n",
       "\n",
       "     ACTUAL_ELAPSED_TIME  FLIGHTS  DISTANCE CARRIER_DELAY WEATHER_DELAY  \\\n",
       "179                  NaN        1       189           0.0           0.0   \n",
       "390                  NaN        1       369           0.0           0.0   \n",
       "518                  NaN        1       369           0.0           0.0   \n",
       "\n",
       "    NAS_DELAY SECURITY_DELAY  LATE_AIRCRAFT_DELAY  DIV_AIRPORT_LANDINGS  \n",
       "179       0.0            0.0                  0.0                     0  \n",
       "390       0.0            0.0                  0.0                     0  \n",
       "518       0.0            0.0                  0.0                     0  \n",
       "\n",
       "[3 rows x 45 columns]"
      ]
     },
     "execution_count": 9,
     "metadata": {},
     "output_type": "execute_result"
    }
   ],
   "source": [
    "missing = newdf.loc[df['DEP_DELAY'].isnull()]\n",
    "missing.head()"
   ]
  },
  {
   "cell_type": "code",
   "execution_count": 10,
   "metadata": {},
   "outputs": [],
   "source": [
    "newdf=newdf.loc[newdf['DEP_DELAY'].notnull()] "
   ]
  },
  {
   "cell_type": "code",
   "execution_count": 11,
   "metadata": {},
   "outputs": [
    {
     "data": {
      "text/plain": [
       "DAY_OF_WEEK              0\n",
       "OP_CARRIER_AIRLINE_ID    0\n",
       "OP_CARRIER_FL_NUM        0\n",
       "ORIGIN_AIRPORT_ID        0\n",
       "ORIGIN_AIRPORT_SEQ_ID    0\n",
       "ORIGIN_CITY_MARKET_ID    0\n",
       "ORIGIN                   0\n",
       "ORIGIN_CITY_NAME         0\n",
       "ORIGIN_STATE_ABR         0\n",
       "ORIGIN_STATE_NM          0\n",
       "ORIGIN_WAC               0\n",
       "DEST_AIRPORT_ID          0\n",
       "DEST_AIRPORT_SEQ_ID      0\n",
       "DEST_CITY_MARKET_ID      0\n",
       "DEST                     0\n",
       "DEST_CITY_NAME           0\n",
       "DEST_STATE_ABR           0\n",
       "DEST_STATE_NM            0\n",
       "DEST_WAC                 0\n",
       "CRS_DEP_TIME             0\n",
       "DEP_TIME                 0\n",
       "DEP_DELAY                0\n",
       "DEP_DELAY_NEW            0\n",
       "DEP_DEL15                0\n",
       "DEP_DELAY_GROUP          0\n",
       "DEP_TIME_BLK             0\n",
       "CRS_ARR_TIME             0\n",
       "ARR_TIME                 0\n",
       "ARR_DELAY                0\n",
       "ARR_DELAY_NEW            0\n",
       "ARR_DEL15                0\n",
       "ARR_DELAY_GROUP          0\n",
       "ARR_TIME_BLK             0\n",
       "CANCELLED                0\n",
       "DIVERTED                 0\n",
       "CRS_ELAPSED_TIME         0\n",
       "ACTUAL_ELAPSED_TIME      0\n",
       "FLIGHTS                  0\n",
       "DISTANCE                 0\n",
       "CARRIER_DELAY            0\n",
       "WEATHER_DELAY            0\n",
       "NAS_DELAY                0\n",
       "SECURITY_DELAY           0\n",
       "LATE_AIRCRAFT_DELAY      0\n",
       "DIV_AIRPORT_LANDINGS     0\n",
       "dtype: int64"
      ]
     },
     "execution_count": 11,
     "metadata": {},
     "output_type": "execute_result"
    }
   ],
   "source": [
    "newdf.isnull().sum()"
   ]
  },
  {
   "cell_type": "code",
   "execution_count": 12,
   "metadata": {
    "scrolled": true
   },
   "outputs": [
    {
     "data": {
      "text/html": [
       "<div>\n",
       "<style scoped>\n",
       "    .dataframe tbody tr th:only-of-type {\n",
       "        vertical-align: middle;\n",
       "    }\n",
       "\n",
       "    .dataframe tbody tr th {\n",
       "        vertical-align: top;\n",
       "    }\n",
       "\n",
       "    .dataframe thead th {\n",
       "        text-align: right;\n",
       "    }\n",
       "</style>\n",
       "<table border=\"1\" class=\"dataframe\">\n",
       "  <thead>\n",
       "    <tr style=\"text-align: right;\">\n",
       "      <th></th>\n",
       "      <th>CRS_DEP_TIME</th>\n",
       "      <th>DEP_DELAY</th>\n",
       "      <th>CRS_ARR_TIME</th>\n",
       "      <th>ARR_DELAY</th>\n",
       "    </tr>\n",
       "  </thead>\n",
       "  <tbody>\n",
       "    <tr>\n",
       "      <td>0</td>\n",
       "      <td>905</td>\n",
       "      <td>-2.0</td>\n",
       "      <td>1450</td>\n",
       "      <td>-17.0</td>\n",
       "    </tr>\n",
       "    <tr>\n",
       "      <td>1</td>\n",
       "      <td>1500</td>\n",
       "      <td>-2.0</td>\n",
       "      <td>2045</td>\n",
       "      <td>-25.0</td>\n",
       "    </tr>\n",
       "    <tr>\n",
       "      <td>2</td>\n",
       "      <td>1800</td>\n",
       "      <td>2.0</td>\n",
       "      <td>2045</td>\n",
       "      <td>-13.0</td>\n",
       "    </tr>\n",
       "    <tr>\n",
       "      <td>3</td>\n",
       "      <td>950</td>\n",
       "      <td>-3.0</td>\n",
       "      <td>1235</td>\n",
       "      <td>-12.0</td>\n",
       "    </tr>\n",
       "    <tr>\n",
       "      <td>4</td>\n",
       "      <td>1150</td>\n",
       "      <td>1.0</td>\n",
       "      <td>1430</td>\n",
       "      <td>-7.0</td>\n",
       "    </tr>\n",
       "  </tbody>\n",
       "</table>\n",
       "</div>"
      ],
      "text/plain": [
       "   CRS_DEP_TIME  DEP_DELAY  CRS_ARR_TIME  ARR_DELAY\n",
       "0           905       -2.0          1450      -17.0\n",
       "1          1500       -2.0          2045      -25.0\n",
       "2          1800        2.0          2045      -13.0\n",
       "3           950       -3.0          1235      -12.0\n",
       "4          1150        1.0          1430       -7.0"
      ]
     },
     "execution_count": 12,
     "metadata": {},
     "output_type": "execute_result"
    }
   ],
   "source": [
    "delaybytimedf = newdf[['CRS_DEP_TIME','DEP_DELAY','CRS_ARR_TIME','ARR_DELAY']].copy()\n",
    "delaybytimedf.head()"
   ]
  },
  {
   "cell_type": "code",
   "execution_count": 13,
   "metadata": {},
   "outputs": [
    {
     "data": {
      "text/html": [
       "<div>\n",
       "<style scoped>\n",
       "    .dataframe tbody tr th:only-of-type {\n",
       "        vertical-align: middle;\n",
       "    }\n",
       "\n",
       "    .dataframe tbody tr th {\n",
       "        vertical-align: top;\n",
       "    }\n",
       "\n",
       "    .dataframe thead th {\n",
       "        text-align: right;\n",
       "    }\n",
       "</style>\n",
       "<table border=\"1\" class=\"dataframe\">\n",
       "  <thead>\n",
       "    <tr style=\"text-align: right;\">\n",
       "      <th></th>\n",
       "      <th>CRS_DEP_TIME</th>\n",
       "      <th>DEP_DELAY</th>\n",
       "      <th>CRS_ARR_TIME</th>\n",
       "      <th>ARR_DELAY</th>\n",
       "    </tr>\n",
       "  </thead>\n",
       "  <tbody>\n",
       "    <tr>\n",
       "      <td>count</td>\n",
       "      <td>525.000000</td>\n",
       "      <td>525.000000</td>\n",
       "      <td>525.000000</td>\n",
       "      <td>525.000000</td>\n",
       "    </tr>\n",
       "    <tr>\n",
       "      <td>mean</td>\n",
       "      <td>1336.619048</td>\n",
       "      <td>6.830476</td>\n",
       "      <td>1461.647619</td>\n",
       "      <td>0.146667</td>\n",
       "    </tr>\n",
       "    <tr>\n",
       "      <td>std</td>\n",
       "      <td>489.881828</td>\n",
       "      <td>27.335277</td>\n",
       "      <td>511.141608</td>\n",
       "      <td>28.294313</td>\n",
       "    </tr>\n",
       "    <tr>\n",
       "      <td>min</td>\n",
       "      <td>525.000000</td>\n",
       "      <td>-11.000000</td>\n",
       "      <td>5.000000</td>\n",
       "      <td>-29.000000</td>\n",
       "    </tr>\n",
       "    <tr>\n",
       "      <td>25%</td>\n",
       "      <td>925.000000</td>\n",
       "      <td>-4.000000</td>\n",
       "      <td>1035.000000</td>\n",
       "      <td>-13.000000</td>\n",
       "    </tr>\n",
       "    <tr>\n",
       "      <td>50%</td>\n",
       "      <td>1330.000000</td>\n",
       "      <td>-1.000000</td>\n",
       "      <td>1450.000000</td>\n",
       "      <td>-7.000000</td>\n",
       "    </tr>\n",
       "    <tr>\n",
       "      <td>75%</td>\n",
       "      <td>1735.000000</td>\n",
       "      <td>3.000000</td>\n",
       "      <td>1910.000000</td>\n",
       "      <td>1.000000</td>\n",
       "    </tr>\n",
       "    <tr>\n",
       "      <td>max</td>\n",
       "      <td>2225.000000</td>\n",
       "      <td>239.000000</td>\n",
       "      <td>2355.000000</td>\n",
       "      <td>232.000000</td>\n",
       "    </tr>\n",
       "  </tbody>\n",
       "</table>\n",
       "</div>"
      ],
      "text/plain": [
       "       CRS_DEP_TIME   DEP_DELAY  CRS_ARR_TIME   ARR_DELAY\n",
       "count    525.000000  525.000000    525.000000  525.000000\n",
       "mean    1336.619048    6.830476   1461.647619    0.146667\n",
       "std      489.881828   27.335277    511.141608   28.294313\n",
       "min      525.000000  -11.000000      5.000000  -29.000000\n",
       "25%      925.000000   -4.000000   1035.000000  -13.000000\n",
       "50%     1330.000000   -1.000000   1450.000000   -7.000000\n",
       "75%     1735.000000    3.000000   1910.000000    1.000000\n",
       "max     2225.000000  239.000000   2355.000000  232.000000"
      ]
     },
     "execution_count": 13,
     "metadata": {},
     "output_type": "execute_result"
    }
   ],
   "source": [
    "delaybytimedf.describe()"
   ]
  },
  {
   "cell_type": "code",
   "execution_count": 14,
   "metadata": {},
   "outputs": [],
   "source": [
    "bins = [-1,90,190,290,390,490,590,690,790,890,990,1090,1190,1290,1390,1490,1590,1690,1790,1890,1990,2090,2190,2290,2401]\n",
    "group_names = [0,1,2,3,4,5,6,7,8,9,10,11,12,13,14,15,16,17,18,19,20,21,22,23]\n",
    "delaybytimedf['depHour'] = pd.cut(delaybytimedf['CRS_DEP_TIME'], bins, labels=group_names)\n",
    "newdf['depHour'] = pd.cut(newdf['CRS_DEP_TIME'], bins, labels=group_names)\n",
    "delaybytimedf['arrHour'] = pd.cut(delaybytimedf['CRS_ARR_TIME'], bins, labels=group_names)\n",
    "newdf['depHour'] = pd.cut(newdf['CRS_DEP_TIME'], bins, labels=group_names)"
   ]
  },
  {
   "cell_type": "code",
   "execution_count": 15,
   "metadata": {},
   "outputs": [
    {
     "data": {
      "text/html": [
       "<div>\n",
       "<style scoped>\n",
       "    .dataframe tbody tr th:only-of-type {\n",
       "        vertical-align: middle;\n",
       "    }\n",
       "\n",
       "    .dataframe tbody tr th {\n",
       "        vertical-align: top;\n",
       "    }\n",
       "\n",
       "    .dataframe thead th {\n",
       "        text-align: right;\n",
       "    }\n",
       "</style>\n",
       "<table border=\"1\" class=\"dataframe\">\n",
       "  <thead>\n",
       "    <tr style=\"text-align: right;\">\n",
       "      <th></th>\n",
       "      <th>CRS_DEP_TIME</th>\n",
       "      <th>DEP_DELAY</th>\n",
       "      <th>CRS_ARR_TIME</th>\n",
       "      <th>ARR_DELAY</th>\n",
       "      <th>depHour</th>\n",
       "      <th>arrHour</th>\n",
       "    </tr>\n",
       "  </thead>\n",
       "  <tbody>\n",
       "    <tr>\n",
       "      <td>0</td>\n",
       "      <td>905</td>\n",
       "      <td>-2.0</td>\n",
       "      <td>1450</td>\n",
       "      <td>-17.0</td>\n",
       "      <td>9</td>\n",
       "      <td>14</td>\n",
       "    </tr>\n",
       "    <tr>\n",
       "      <td>1</td>\n",
       "      <td>1500</td>\n",
       "      <td>-2.0</td>\n",
       "      <td>2045</td>\n",
       "      <td>-25.0</td>\n",
       "      <td>15</td>\n",
       "      <td>20</td>\n",
       "    </tr>\n",
       "    <tr>\n",
       "      <td>2</td>\n",
       "      <td>1800</td>\n",
       "      <td>2.0</td>\n",
       "      <td>2045</td>\n",
       "      <td>-13.0</td>\n",
       "      <td>18</td>\n",
       "      <td>20</td>\n",
       "    </tr>\n",
       "    <tr>\n",
       "      <td>3</td>\n",
       "      <td>950</td>\n",
       "      <td>-3.0</td>\n",
       "      <td>1235</td>\n",
       "      <td>-12.0</td>\n",
       "      <td>9</td>\n",
       "      <td>12</td>\n",
       "    </tr>\n",
       "    <tr>\n",
       "      <td>4</td>\n",
       "      <td>1150</td>\n",
       "      <td>1.0</td>\n",
       "      <td>1430</td>\n",
       "      <td>-7.0</td>\n",
       "      <td>11</td>\n",
       "      <td>14</td>\n",
       "    </tr>\n",
       "  </tbody>\n",
       "</table>\n",
       "</div>"
      ],
      "text/plain": [
       "   CRS_DEP_TIME  DEP_DELAY  CRS_ARR_TIME  ARR_DELAY depHour arrHour\n",
       "0           905       -2.0          1450      -17.0       9      14\n",
       "1          1500       -2.0          2045      -25.0      15      20\n",
       "2          1800        2.0          2045      -13.0      18      20\n",
       "3           950       -3.0          1235      -12.0       9      12\n",
       "4          1150        1.0          1430       -7.0      11      14"
      ]
     },
     "execution_count": 15,
     "metadata": {},
     "output_type": "execute_result"
    }
   ],
   "source": [
    "delaybytimedf.head()"
   ]
  },
  {
   "cell_type": "code",
   "execution_count": 16,
   "metadata": {},
   "outputs": [
    {
     "data": {
      "text/plain": [
       "depHour\n",
       "0           NaN\n",
       "1           NaN\n",
       "2           NaN\n",
       "3           NaN\n",
       "4           NaN\n",
       "5     -1.615385\n",
       "6     -2.393939\n",
       "7     -1.431818\n",
       "8     -2.212121\n",
       "9     -1.470588\n",
       "10     1.656250\n",
       "11     8.657143\n",
       "12    12.722222\n",
       "13    10.538462\n",
       "14    11.423077\n",
       "15     2.361111\n",
       "16    13.965517\n",
       "17    25.807692\n",
       "18    22.827586\n",
       "19     6.105263\n",
       "20     7.761905\n",
       "21     5.954545\n",
       "22    13.529412\n",
       "23          NaN\n",
       "Name: DEP_DELAY, dtype: float64"
      ]
     },
     "execution_count": 16,
     "metadata": {},
     "output_type": "execute_result"
    }
   ],
   "source": [
    "delaybytimedf.groupby(['depHour'])['DEP_DELAY'].mean()"
   ]
  },
  {
   "cell_type": "code",
   "execution_count": 17,
   "metadata": {},
   "outputs": [
    {
     "data": {
      "text/plain": [
       "arrHour\n",
       "0     -9.000000\n",
       "1    -24.000000\n",
       "2           NaN\n",
       "3           NaN\n",
       "4           NaN\n",
       "5           NaN\n",
       "6     -7.333333\n",
       "7     -5.656250\n",
       "8     -7.269231\n",
       "9     -7.090909\n",
       "10    -9.342105\n",
       "11    -9.103448\n",
       "12    -5.340426\n",
       "13    -3.714286\n",
       "14     4.689655\n",
       "15    -0.920000\n",
       "16     4.190476\n",
       "17    10.538462\n",
       "18     4.129032\n",
       "19     6.214286\n",
       "20    20.607143\n",
       "21     2.736842\n",
       "22     5.526316\n",
       "23     4.571429\n",
       "Name: ARR_DELAY, dtype: float64"
      ]
     },
     "execution_count": 17,
     "metadata": {},
     "output_type": "execute_result"
    }
   ],
   "source": [
    "delaybytimedf.groupby(['arrHour'])['ARR_DELAY'].mean()"
   ]
  },
  {
   "cell_type": "code",
   "execution_count": 18,
   "metadata": {},
   "outputs": [],
   "source": [
    "def catSort(a,b,c,d,e):\n",
    "    if a>=b:\n",
    "        if a>=c:\n",
    "            if a>=d:\n",
    "                if a>=e:\n",
    "                    return 1\n",
    "                else:\n",
    "                    return 0\n",
    "            else:\n",
    "                return 0\n",
    "        else:\n",
    "            return 0\n",
    "    else:\n",
    "        return 0"
   ]
  },
  {
   "cell_type": "code",
   "execution_count": 19,
   "metadata": {},
   "outputs": [],
   "source": [
    "def comboCheck(a,b,c,d,e):\n",
    "    if a==b:\n",
    "        return 2\n",
    "    elif a==c:\n",
    "        return 2\n",
    "    elif a==d:\n",
    "        return 2\n",
    "    elif a==e:\n",
    "        return 2\n",
    "    else:\n",
    "        return 1"
   ]
  },
  {
   "cell_type": "code",
   "execution_count": 20,
   "metadata": {},
   "outputs": [],
   "source": [
    "def delayCat(carrier,weather,nas,security,lateair):\n",
    "    if (carrier+weather+nas+security+lateair)==0:\n",
    "        return \"NoneReported\"\n",
    "    elif catSort(carrier,weather,nas,security,lateair)==1:\n",
    "        if comboCheck(carrier,weather,nas,security,lateair)==2:\n",
    "            return \"Combo\"\n",
    "        else:\n",
    "            return \"Carrier\"\n",
    "    elif catSort(weather,carrier,nas,security,lateair)==1:\n",
    "        if comboCheck(weather,carrier,nas,security,lateair)==2:\n",
    "            return \"Combo\"\n",
    "        else:\n",
    "            return \"Weather\"\n",
    "    elif catSort(nas,carrier,weather,security,lateair)==1:\n",
    "        if comboCheck(nas,carrier,weather,security,lateair)==2:\n",
    "            return \"Combo\"\n",
    "        else:\n",
    "            return \"NationalAirSystem\"\n",
    "    elif catSort(security,carrier,weather,nas,lateair)==1:\n",
    "        if comboCheck(security,carrier,weather,nas,lateair)==2:\n",
    "            return \"Combo\"\n",
    "        else:\n",
    "            return \"Security\"\n",
    "    elif catSort(lateair,carrier,weather,nas,security)==1:\n",
    "        if comboCheck(lateair,carrier,weather,nas,security)==2:\n",
    "            return \"Combo\"\n",
    "        else:\n",
    "            return \"LateAircraft\""
   ]
  },
  {
   "cell_type": "code",
   "execution_count": 21,
   "metadata": {},
   "outputs": [
    {
     "data": {
      "text/html": [
       "<div>\n",
       "<style scoped>\n",
       "    .dataframe tbody tr th:only-of-type {\n",
       "        vertical-align: middle;\n",
       "    }\n",
       "\n",
       "    .dataframe tbody tr th {\n",
       "        vertical-align: top;\n",
       "    }\n",
       "\n",
       "    .dataframe thead th {\n",
       "        text-align: right;\n",
       "    }\n",
       "</style>\n",
       "<table border=\"1\" class=\"dataframe\">\n",
       "  <thead>\n",
       "    <tr style=\"text-align: right;\">\n",
       "      <th></th>\n",
       "      <th>depHour</th>\n",
       "      <th>arrHour</th>\n",
       "      <th>DEP_DELAY</th>\n",
       "      <th>ARR_DELAY</th>\n",
       "    </tr>\n",
       "  </thead>\n",
       "  <tbody>\n",
       "    <tr>\n",
       "      <td>0</td>\n",
       "      <td>9</td>\n",
       "      <td>14</td>\n",
       "      <td>-2.0</td>\n",
       "      <td>-17.0</td>\n",
       "    </tr>\n",
       "    <tr>\n",
       "      <td>1</td>\n",
       "      <td>15</td>\n",
       "      <td>20</td>\n",
       "      <td>-2.0</td>\n",
       "      <td>-25.0</td>\n",
       "    </tr>\n",
       "    <tr>\n",
       "      <td>2</td>\n",
       "      <td>18</td>\n",
       "      <td>20</td>\n",
       "      <td>2.0</td>\n",
       "      <td>-13.0</td>\n",
       "    </tr>\n",
       "    <tr>\n",
       "      <td>3</td>\n",
       "      <td>9</td>\n",
       "      <td>12</td>\n",
       "      <td>-3.0</td>\n",
       "      <td>-12.0</td>\n",
       "    </tr>\n",
       "    <tr>\n",
       "      <td>4</td>\n",
       "      <td>11</td>\n",
       "      <td>14</td>\n",
       "      <td>1.0</td>\n",
       "      <td>-7.0</td>\n",
       "    </tr>\n",
       "  </tbody>\n",
       "</table>\n",
       "</div>"
      ],
      "text/plain": [
       "  depHour arrHour  DEP_DELAY  ARR_DELAY\n",
       "0       9      14       -2.0      -17.0\n",
       "1      15      20       -2.0      -25.0\n",
       "2      18      20        2.0      -13.0\n",
       "3       9      12       -3.0      -12.0\n",
       "4      11      14        1.0       -7.0"
      ]
     },
     "execution_count": 21,
     "metadata": {},
     "output_type": "execute_result"
    }
   ],
   "source": [
    "typebytimedf = delaybytimedf[['depHour','arrHour','DEP_DELAY','ARR_DELAY']].copy()\n",
    "typebytimedf.head()"
   ]
  },
  {
   "cell_type": "code",
   "execution_count": 22,
   "metadata": {},
   "outputs": [
    {
     "data": {
      "text/plain": [
       "Index(['DAY_OF_WEEK', 'OP_CARRIER_AIRLINE_ID', 'OP_CARRIER_FL_NUM',\n",
       "       'ORIGIN_AIRPORT_ID', 'ORIGIN_AIRPORT_SEQ_ID', 'ORIGIN_CITY_MARKET_ID',\n",
       "       'ORIGIN', 'ORIGIN_CITY_NAME', 'ORIGIN_STATE_ABR', 'ORIGIN_STATE_NM',\n",
       "       'ORIGIN_WAC', 'DEST_AIRPORT_ID', 'DEST_AIRPORT_SEQ_ID',\n",
       "       'DEST_CITY_MARKET_ID', 'DEST', 'DEST_CITY_NAME', 'DEST_STATE_ABR',\n",
       "       'DEST_STATE_NM', 'DEST_WAC', 'CRS_DEP_TIME', 'DEP_TIME', 'DEP_DELAY',\n",
       "       'DEP_DELAY_NEW', 'DEP_DEL15', 'DEP_DELAY_GROUP', 'DEP_TIME_BLK',\n",
       "       'CRS_ARR_TIME', 'ARR_TIME', 'ARR_DELAY', 'ARR_DELAY_NEW', 'ARR_DEL15',\n",
       "       'ARR_DELAY_GROUP', 'ARR_TIME_BLK', 'CANCELLED', 'DIVERTED',\n",
       "       'CRS_ELAPSED_TIME', 'ACTUAL_ELAPSED_TIME', 'FLIGHTS', 'DISTANCE',\n",
       "       'CARRIER_DELAY', 'WEATHER_DELAY', 'NAS_DELAY', 'SECURITY_DELAY',\n",
       "       'LATE_AIRCRAFT_DELAY', 'DIV_AIRPORT_LANDINGS', 'depHour'],\n",
       "      dtype='object')"
      ]
     },
     "execution_count": 22,
     "metadata": {},
     "output_type": "execute_result"
    }
   ],
   "source": [
    "newdf.columns"
   ]
  },
  {
   "cell_type": "code",
   "execution_count": 23,
   "metadata": {},
   "outputs": [],
   "source": [
    "typebytimedf['DelayCategory'] = newdf.apply(lambda row: delayCat(row['CARRIER_DELAY'],row['WEATHER_DELAY'],row['NAS_DELAY'],row['SECURITY_DELAY'],row['LATE_AIRCRAFT_DELAY']),axis=1)"
   ]
  },
  {
   "cell_type": "code",
   "execution_count": 24,
   "metadata": {},
   "outputs": [],
   "source": [
    "newdf['DelayCategory'] = newdf.apply(lambda row: delayCat(row['CARRIER_DELAY'],row['WEATHER_DELAY'],row['NAS_DELAY'],row['SECURITY_DELAY'],row['LATE_AIRCRAFT_DELAY']),axis=1)"
   ]
  },
  {
   "cell_type": "code",
   "execution_count": 25,
   "metadata": {},
   "outputs": [
    {
     "data": {
      "text/html": [
       "<div>\n",
       "<style scoped>\n",
       "    .dataframe tbody tr th:only-of-type {\n",
       "        vertical-align: middle;\n",
       "    }\n",
       "\n",
       "    .dataframe tbody tr th {\n",
       "        vertical-align: top;\n",
       "    }\n",
       "\n",
       "    .dataframe thead th {\n",
       "        text-align: right;\n",
       "    }\n",
       "</style>\n",
       "<table border=\"1\" class=\"dataframe\">\n",
       "  <thead>\n",
       "    <tr style=\"text-align: right;\">\n",
       "      <th></th>\n",
       "      <th>depHour</th>\n",
       "      <th>arrHour</th>\n",
       "      <th>DEP_DELAY</th>\n",
       "      <th>ARR_DELAY</th>\n",
       "      <th>DelayCategory</th>\n",
       "    </tr>\n",
       "  </thead>\n",
       "  <tbody>\n",
       "    <tr>\n",
       "      <td>95</td>\n",
       "      <td>11</td>\n",
       "      <td>12</td>\n",
       "      <td>98.0</td>\n",
       "      <td>128.0</td>\n",
       "      <td>Carrier</td>\n",
       "    </tr>\n",
       "    <tr>\n",
       "      <td>96</td>\n",
       "      <td>6</td>\n",
       "      <td>7</td>\n",
       "      <td>-4.0</td>\n",
       "      <td>-11.0</td>\n",
       "      <td>NoneReported</td>\n",
       "    </tr>\n",
       "    <tr>\n",
       "      <td>97</td>\n",
       "      <td>13</td>\n",
       "      <td>14</td>\n",
       "      <td>-7.0</td>\n",
       "      <td>23.0</td>\n",
       "      <td>NationalAirSystem</td>\n",
       "    </tr>\n",
       "    <tr>\n",
       "      <td>98</td>\n",
       "      <td>15</td>\n",
       "      <td>17</td>\n",
       "      <td>0.0</td>\n",
       "      <td>2.0</td>\n",
       "      <td>NoneReported</td>\n",
       "    </tr>\n",
       "    <tr>\n",
       "      <td>99</td>\n",
       "      <td>8</td>\n",
       "      <td>10</td>\n",
       "      <td>-6.0</td>\n",
       "      <td>-17.0</td>\n",
       "      <td>NoneReported</td>\n",
       "    </tr>\n",
       "  </tbody>\n",
       "</table>\n",
       "</div>"
      ],
      "text/plain": [
       "   depHour arrHour  DEP_DELAY  ARR_DELAY      DelayCategory\n",
       "95      11      12       98.0      128.0            Carrier\n",
       "96       6       7       -4.0      -11.0       NoneReported\n",
       "97      13      14       -7.0       23.0  NationalAirSystem\n",
       "98      15      17        0.0        2.0       NoneReported\n",
       "99       8      10       -6.0      -17.0       NoneReported"
      ]
     },
     "execution_count": 25,
     "metadata": {},
     "output_type": "execute_result"
    }
   ],
   "source": [
    "typebytimedf[95:100]"
   ]
  },
  {
   "cell_type": "code",
   "execution_count": 26,
   "metadata": {},
   "outputs": [
    {
     "data": {
      "text/plain": [
       "DelayCategory\n",
       "Carrier              68.833333\n",
       "LateAircraft         73.121212\n",
       "NationalAirSystem    45.384615\n",
       "NoneReported         -0.520343\n",
       "Name: DEP_DELAY, dtype: float64"
      ]
     },
     "execution_count": 26,
     "metadata": {},
     "output_type": "execute_result"
    }
   ],
   "source": [
    "typebytimedf.groupby(['DelayCategory'])['DEP_DELAY'].mean()"
   ]
  },
  {
   "cell_type": "code",
   "execution_count": 27,
   "metadata": {},
   "outputs": [],
   "source": [
    "grouped=typebytimedf.groupby(['depHour','DelayCategory'])['DEP_DELAY'].mean()"
   ]
  },
  {
   "cell_type": "code",
   "execution_count": 28,
   "metadata": {},
   "outputs": [
    {
     "data": {
      "text/plain": [
       "pandas.core.series.Series"
      ]
     },
     "execution_count": 28,
     "metadata": {},
     "output_type": "execute_result"
    }
   ],
   "source": [
    "type(grouped)"
   ]
  },
  {
   "cell_type": "code",
   "execution_count": 29,
   "metadata": {},
   "outputs": [],
   "source": [
    "gro=grouped.loc[grouped.notnull()] "
   ]
  },
  {
   "cell_type": "code",
   "execution_count": 30,
   "metadata": {},
   "outputs": [
    {
     "data": {
      "text/plain": [
       "depHour  DelayCategory    \n",
       "5        NoneReported          -1.615385\n",
       "6        NationalAirSystem     -3.000000\n",
       "         NoneReported          -2.375000\n",
       "7        Carrier               15.000000\n",
       "         NoneReported          -1.813953\n",
       "8        NationalAirSystem     -1.000000\n",
       "         NoneReported          -2.250000\n",
       "9        NoneReported          -1.470588\n",
       "10       Carrier               35.000000\n",
       "         NoneReported           0.580645\n",
       "11       Carrier               98.000000\n",
       "         LateAircraft          53.000000\n",
       "         NationalAirSystem    125.000000\n",
       "         NoneReported          -0.838710\n",
       "12       LateAircraft          72.333333\n",
       "         NationalAirSystem     14.000000\n",
       "         NoneReported          -0.142857\n",
       "13       Carrier              118.500000\n",
       "         LateAircraft          27.500000\n",
       "         NationalAirSystem     27.000000\n",
       "         NoneReported           1.187500\n",
       "14       Carrier               34.000000\n",
       "         NationalAirSystem     77.666667\n",
       "         NoneReported           1.363636\n",
       "15       LateAircraft          30.500000\n",
       "         NoneReported           0.705882\n",
       "16       Carrier               33.000000\n",
       "         LateAircraft          49.250000\n",
       "         NationalAirSystem     64.000000\n",
       "         NoneReported           2.136364\n",
       "17       LateAircraft         129.000000\n",
       "         NoneReported           1.238095\n",
       "18       LateAircraft          81.875000\n",
       "         NationalAirSystem     13.000000\n",
       "         NoneReported          -0.300000\n",
       "19       Carrier               76.000000\n",
       "         LateAircraft          72.000000\n",
       "         NoneReported           0.342857\n",
       "20       Carrier               58.500000\n",
       "         LateAircraft          95.000000\n",
       "         NoneReported          -2.722222\n",
       "21       Carrier               69.000000\n",
       "         LateAircraft          54.500000\n",
       "         NoneReported          -2.473684\n",
       "22       Carrier              112.000000\n",
       "         LateAircraft          64.500000\n",
       "         NoneReported          -0.785714\n",
       "Name: DEP_DELAY, dtype: float64"
      ]
     },
     "execution_count": 30,
     "metadata": {},
     "output_type": "execute_result"
    }
   ],
   "source": [
    "gro"
   ]
  },
  {
   "cell_type": "code",
   "execution_count": 31,
   "metadata": {},
   "outputs": [],
   "source": [
    "delaybycarrierdf=df[['DEP_DELAY','ARR_DELAY','OP_CARRIER_AIRLINE_ID']].copy()"
   ]
  },
  {
   "cell_type": "code",
   "execution_count": 32,
   "metadata": {},
   "outputs": [
    {
     "data": {
      "text/plain": [
       "OP_CARRIER_AIRLINE_ID\n",
       "19393    6.830476\n",
       "Name: DEP_DELAY, dtype: float64"
      ]
     },
     "execution_count": 32,
     "metadata": {},
     "output_type": "execute_result"
    }
   ],
   "source": [
    "delaybycarrierdf.groupby(['OP_CARRIER_AIRLINE_ID'])['DEP_DELAY'].mean()"
   ]
  },
  {
   "cell_type": "code",
   "execution_count": 33,
   "metadata": {},
   "outputs": [],
   "source": [
    "#make the predictive model"
   ]
  },
  {
   "cell_type": "code",
   "execution_count": 34,
   "metadata": {},
   "outputs": [
    {
     "data": {
      "text/plain": [
       "GA    119\n",
       "TN    105\n",
       "TX     69\n",
       "CA     57\n",
       "MD     44\n",
       "NM     34\n",
       "MA     33\n",
       "NY     25\n",
       "CT     15\n",
       "ID     12\n",
       "AL     12\n",
       "Name: ORIGIN_STATE_ABR, dtype: int64"
      ]
     },
     "execution_count": 34,
     "metadata": {},
     "output_type": "execute_result"
    }
   ],
   "source": [
    "newdf['ORIGIN_STATE_ABR'].value_counts()"
   ]
  },
  {
   "cell_type": "code",
   "execution_count": 35,
   "metadata": {},
   "outputs": [
    {
     "data": {
      "text/plain": [
       "Index(['DAY_OF_WEEK', 'OP_CARRIER_AIRLINE_ID', 'OP_CARRIER_FL_NUM',\n",
       "       'ORIGIN_AIRPORT_ID', 'ORIGIN_AIRPORT_SEQ_ID', 'ORIGIN_CITY_MARKET_ID',\n",
       "       'ORIGIN', 'ORIGIN_CITY_NAME', 'ORIGIN_STATE_ABR', 'ORIGIN_STATE_NM',\n",
       "       'ORIGIN_WAC', 'DEST_AIRPORT_ID', 'DEST_AIRPORT_SEQ_ID',\n",
       "       'DEST_CITY_MARKET_ID', 'DEST', 'DEST_CITY_NAME', 'DEST_STATE_ABR',\n",
       "       'DEST_STATE_NM', 'DEST_WAC', 'CRS_DEP_TIME', 'DEP_TIME', 'DEP_DELAY',\n",
       "       'DEP_DELAY_NEW', 'DEP_DEL15', 'DEP_DELAY_GROUP', 'DEP_TIME_BLK',\n",
       "       'CRS_ARR_TIME', 'ARR_TIME', 'ARR_DELAY', 'ARR_DELAY_NEW', 'ARR_DEL15',\n",
       "       'ARR_DELAY_GROUP', 'ARR_TIME_BLK', 'CANCELLED', 'DIVERTED',\n",
       "       'CRS_ELAPSED_TIME', 'ACTUAL_ELAPSED_TIME', 'FLIGHTS', 'DISTANCE',\n",
       "       'CARRIER_DELAY', 'WEATHER_DELAY', 'NAS_DELAY', 'SECURITY_DELAY',\n",
       "       'LATE_AIRCRAFT_DELAY', 'DIV_AIRPORT_LANDINGS', 'depHour',\n",
       "       'DelayCategory'],\n",
       "      dtype='object')"
      ]
     },
     "execution_count": 35,
     "metadata": {},
     "output_type": "execute_result"
    }
   ],
   "source": [
    "newdf.columns"
   ]
  },
  {
   "cell_type": "code",
   "execution_count": 43,
   "metadata": {},
   "outputs": [
    {
     "data": {
      "text/plain": [
       "DAY_OF_WEEK                 int64\n",
       "OP_CARRIER_AIRLINE_ID       int64\n",
       "OP_CARRIER_FL_NUM           int64\n",
       "ORIGIN_AIRPORT_ID           int64\n",
       "ORIGIN_AIRPORT_SEQ_ID       int64\n",
       "ORIGIN_CITY_MARKET_ID       int64\n",
       "ORIGIN                     object\n",
       "ORIGIN_CITY_NAME           object\n",
       "ORIGIN_STATE_ABR           object\n",
       "ORIGIN_STATE_NM            object\n",
       "ORIGIN_WAC                  int64\n",
       "DEST_AIRPORT_ID             int64\n",
       "DEST_AIRPORT_SEQ_ID         int64\n",
       "DEST_CITY_MARKET_ID         int64\n",
       "DEST                       object\n",
       "DEST_CITY_NAME             object\n",
       "DEST_STATE_ABR             object\n",
       "DEST_STATE_NM              object\n",
       "DEST_WAC                    int64\n",
       "CRS_DEP_TIME                int64\n",
       "DEP_TIME                  float64\n",
       "DEP_DELAY                 float64\n",
       "DEP_DELAY_NEW             float64\n",
       "DEP_DEL15                 float64\n",
       "DEP_DELAY_GROUP           float64\n",
       "DEP_TIME_BLK               object\n",
       "CRS_ARR_TIME                int64\n",
       "ARR_TIME                  float64\n",
       "ARR_DELAY                 float64\n",
       "ARR_DELAY_NEW             float64\n",
       "ARR_DEL15                 float64\n",
       "ARR_DELAY_GROUP           float64\n",
       "ARR_TIME_BLK               object\n",
       "CANCELLED                   int64\n",
       "DIVERTED                    int64\n",
       "CRS_ELAPSED_TIME            int64\n",
       "ACTUAL_ELAPSED_TIME       float64\n",
       "FLIGHTS                     int64\n",
       "DISTANCE                    int64\n",
       "CARRIER_DELAY             float64\n",
       "WEATHER_DELAY             float64\n",
       "NAS_DELAY                 float64\n",
       "SECURITY_DELAY            float64\n",
       "LATE_AIRCRAFT_DELAY       float64\n",
       "DIV_AIRPORT_LANDINGS        int64\n",
       "depHour                  category\n",
       "DelayCategory              object\n",
       "dtype: object"
      ]
     },
     "execution_count": 43,
     "metadata": {},
     "output_type": "execute_result"
    }
   ],
   "source": [
    "newdf.dtypes"
   ]
  },
  {
   "cell_type": "code",
   "execution_count": 37,
   "metadata": {},
   "outputs": [
    {
     "data": {
      "text/html": [
       "<div>\n",
       "<style scoped>\n",
       "    .dataframe tbody tr th:only-of-type {\n",
       "        vertical-align: middle;\n",
       "    }\n",
       "\n",
       "    .dataframe tbody tr th {\n",
       "        vertical-align: top;\n",
       "    }\n",
       "\n",
       "    .dataframe thead th {\n",
       "        text-align: right;\n",
       "    }\n",
       "</style>\n",
       "<table border=\"1\" class=\"dataframe\">\n",
       "  <thead>\n",
       "    <tr style=\"text-align: right;\">\n",
       "      <th></th>\n",
       "      <th>DAY_OF_WEEK</th>\n",
       "      <th>depHour</th>\n",
       "      <th>OP_CARRIER_AIRLINE_ID</th>\n",
       "      <th>ORIGIN_STATE_ABR</th>\n",
       "      <th>DEP_DEL15</th>\n",
       "    </tr>\n",
       "  </thead>\n",
       "  <tbody>\n",
       "    <tr>\n",
       "      <td>0</td>\n",
       "      <td>1</td>\n",
       "      <td>9</td>\n",
       "      <td>19393</td>\n",
       "      <td>NM</td>\n",
       "      <td>0.0</td>\n",
       "    </tr>\n",
       "    <tr>\n",
       "      <td>1</td>\n",
       "      <td>1</td>\n",
       "      <td>15</td>\n",
       "      <td>19393</td>\n",
       "      <td>NM</td>\n",
       "      <td>0.0</td>\n",
       "    </tr>\n",
       "    <tr>\n",
       "      <td>2</td>\n",
       "      <td>1</td>\n",
       "      <td>18</td>\n",
       "      <td>19393</td>\n",
       "      <td>NM</td>\n",
       "      <td>0.0</td>\n",
       "    </tr>\n",
       "    <tr>\n",
       "      <td>3</td>\n",
       "      <td>1</td>\n",
       "      <td>9</td>\n",
       "      <td>19393</td>\n",
       "      <td>NM</td>\n",
       "      <td>0.0</td>\n",
       "    </tr>\n",
       "    <tr>\n",
       "      <td>4</td>\n",
       "      <td>1</td>\n",
       "      <td>11</td>\n",
       "      <td>19393</td>\n",
       "      <td>NM</td>\n",
       "      <td>0.0</td>\n",
       "    </tr>\n",
       "  </tbody>\n",
       "</table>\n",
       "</div>"
      ],
      "text/plain": [
       "   DAY_OF_WEEK depHour  OP_CARRIER_AIRLINE_ID ORIGIN_STATE_ABR  DEP_DEL15\n",
       "0            1       9                  19393               NM        0.0\n",
       "1            1      15                  19393               NM        0.0\n",
       "2            1      18                  19393               NM        0.0\n",
       "3            1       9                  19393               NM        0.0\n",
       "4            1      11                  19393               NM        0.0"
      ]
     },
     "execution_count": 37,
     "metadata": {},
     "output_type": "execute_result"
    }
   ],
   "source": [
    "modeldf=newdf[['DAY_OF_WEEK','depHour','OP_CARRIER_AIRLINE_ID','ORIGIN_STATE_ABR','DEP_DEL15']].copy()\n",
    "modeldf.head()"
   ]
  },
  {
   "cell_type": "code",
   "execution_count": 44,
   "metadata": {},
   "outputs": [
    {
     "data": {
      "text/html": [
       "<div>\n",
       "<style scoped>\n",
       "    .dataframe tbody tr th:only-of-type {\n",
       "        vertical-align: middle;\n",
       "    }\n",
       "\n",
       "    .dataframe tbody tr th {\n",
       "        vertical-align: top;\n",
       "    }\n",
       "\n",
       "    .dataframe thead th {\n",
       "        text-align: right;\n",
       "    }\n",
       "</style>\n",
       "<table border=\"1\" class=\"dataframe\">\n",
       "  <thead>\n",
       "    <tr style=\"text-align: right;\">\n",
       "      <th></th>\n",
       "      <th>DAY_OF_WEEK</th>\n",
       "      <th>depHour</th>\n",
       "      <th>OP_CARRIER_AIRLINE_ID</th>\n",
       "      <th>DEP_DEL15</th>\n",
       "      <th>ORIGIN_STATE_ABR_AL</th>\n",
       "      <th>ORIGIN_STATE_ABR_CA</th>\n",
       "      <th>ORIGIN_STATE_ABR_CT</th>\n",
       "      <th>ORIGIN_STATE_ABR_GA</th>\n",
       "      <th>ORIGIN_STATE_ABR_ID</th>\n",
       "      <th>ORIGIN_STATE_ABR_MA</th>\n",
       "      <th>ORIGIN_STATE_ABR_MD</th>\n",
       "      <th>ORIGIN_STATE_ABR_NM</th>\n",
       "      <th>ORIGIN_STATE_ABR_NY</th>\n",
       "      <th>ORIGIN_STATE_ABR_TN</th>\n",
       "      <th>ORIGIN_STATE_ABR_TX</th>\n",
       "    </tr>\n",
       "  </thead>\n",
       "  <tbody>\n",
       "    <tr>\n",
       "      <td>0</td>\n",
       "      <td>1</td>\n",
       "      <td>9</td>\n",
       "      <td>19393</td>\n",
       "      <td>0.0</td>\n",
       "      <td>0</td>\n",
       "      <td>0</td>\n",
       "      <td>0</td>\n",
       "      <td>0</td>\n",
       "      <td>0</td>\n",
       "      <td>0</td>\n",
       "      <td>0</td>\n",
       "      <td>1</td>\n",
       "      <td>0</td>\n",
       "      <td>0</td>\n",
       "      <td>0</td>\n",
       "    </tr>\n",
       "    <tr>\n",
       "      <td>1</td>\n",
       "      <td>1</td>\n",
       "      <td>15</td>\n",
       "      <td>19393</td>\n",
       "      <td>0.0</td>\n",
       "      <td>0</td>\n",
       "      <td>0</td>\n",
       "      <td>0</td>\n",
       "      <td>0</td>\n",
       "      <td>0</td>\n",
       "      <td>0</td>\n",
       "      <td>0</td>\n",
       "      <td>1</td>\n",
       "      <td>0</td>\n",
       "      <td>0</td>\n",
       "      <td>0</td>\n",
       "    </tr>\n",
       "    <tr>\n",
       "      <td>2</td>\n",
       "      <td>1</td>\n",
       "      <td>18</td>\n",
       "      <td>19393</td>\n",
       "      <td>0.0</td>\n",
       "      <td>0</td>\n",
       "      <td>0</td>\n",
       "      <td>0</td>\n",
       "      <td>0</td>\n",
       "      <td>0</td>\n",
       "      <td>0</td>\n",
       "      <td>0</td>\n",
       "      <td>1</td>\n",
       "      <td>0</td>\n",
       "      <td>0</td>\n",
       "      <td>0</td>\n",
       "    </tr>\n",
       "    <tr>\n",
       "      <td>3</td>\n",
       "      <td>1</td>\n",
       "      <td>9</td>\n",
       "      <td>19393</td>\n",
       "      <td>0.0</td>\n",
       "      <td>0</td>\n",
       "      <td>0</td>\n",
       "      <td>0</td>\n",
       "      <td>0</td>\n",
       "      <td>0</td>\n",
       "      <td>0</td>\n",
       "      <td>0</td>\n",
       "      <td>1</td>\n",
       "      <td>0</td>\n",
       "      <td>0</td>\n",
       "      <td>0</td>\n",
       "    </tr>\n",
       "    <tr>\n",
       "      <td>4</td>\n",
       "      <td>1</td>\n",
       "      <td>11</td>\n",
       "      <td>19393</td>\n",
       "      <td>0.0</td>\n",
       "      <td>0</td>\n",
       "      <td>0</td>\n",
       "      <td>0</td>\n",
       "      <td>0</td>\n",
       "      <td>0</td>\n",
       "      <td>0</td>\n",
       "      <td>0</td>\n",
       "      <td>1</td>\n",
       "      <td>0</td>\n",
       "      <td>0</td>\n",
       "      <td>0</td>\n",
       "    </tr>\n",
       "  </tbody>\n",
       "</table>\n",
       "</div>"
      ],
      "text/plain": [
       "   DAY_OF_WEEK depHour  OP_CARRIER_AIRLINE_ID  DEP_DEL15  ORIGIN_STATE_ABR_AL  \\\n",
       "0            1       9                  19393        0.0                    0   \n",
       "1            1      15                  19393        0.0                    0   \n",
       "2            1      18                  19393        0.0                    0   \n",
       "3            1       9                  19393        0.0                    0   \n",
       "4            1      11                  19393        0.0                    0   \n",
       "\n",
       "   ORIGIN_STATE_ABR_CA  ORIGIN_STATE_ABR_CT  ORIGIN_STATE_ABR_GA  \\\n",
       "0                    0                    0                    0   \n",
       "1                    0                    0                    0   \n",
       "2                    0                    0                    0   \n",
       "3                    0                    0                    0   \n",
       "4                    0                    0                    0   \n",
       "\n",
       "   ORIGIN_STATE_ABR_ID  ORIGIN_STATE_ABR_MA  ORIGIN_STATE_ABR_MD  \\\n",
       "0                    0                    0                    0   \n",
       "1                    0                    0                    0   \n",
       "2                    0                    0                    0   \n",
       "3                    0                    0                    0   \n",
       "4                    0                    0                    0   \n",
       "\n",
       "   ORIGIN_STATE_ABR_NM  ORIGIN_STATE_ABR_NY  ORIGIN_STATE_ABR_TN  \\\n",
       "0                    1                    0                    0   \n",
       "1                    1                    0                    0   \n",
       "2                    1                    0                    0   \n",
       "3                    1                    0                    0   \n",
       "4                    1                    0                    0   \n",
       "\n",
       "   ORIGIN_STATE_ABR_TX  \n",
       "0                    0  \n",
       "1                    0  \n",
       "2                    0  \n",
       "3                    0  \n",
       "4                    0  "
      ]
     },
     "execution_count": 44,
     "metadata": {},
     "output_type": "execute_result"
    }
   ],
   "source": [
    "modeldf = pd.get_dummies(data=modeldf, columns=['ORIGIN_STATE_ABR'])\n",
    "modeldf.head()"
   ]
  },
  {
   "cell_type": "code",
   "execution_count": 45,
   "metadata": {},
   "outputs": [
    {
     "data": {
      "text/plain": [
       "DAY_OF_WEEK              525\n",
       "depHour                  525\n",
       "OP_CARRIER_AIRLINE_ID    525\n",
       "DEP_DEL15                525\n",
       "ORIGIN_STATE_ABR_AL      525\n",
       "ORIGIN_STATE_ABR_CA      525\n",
       "ORIGIN_STATE_ABR_CT      525\n",
       "ORIGIN_STATE_ABR_GA      525\n",
       "ORIGIN_STATE_ABR_ID      525\n",
       "ORIGIN_STATE_ABR_MA      525\n",
       "ORIGIN_STATE_ABR_MD      525\n",
       "ORIGIN_STATE_ABR_NM      525\n",
       "ORIGIN_STATE_ABR_NY      525\n",
       "ORIGIN_STATE_ABR_TN      525\n",
       "ORIGIN_STATE_ABR_TX      525\n",
       "dtype: int64"
      ]
     },
     "execution_count": 45,
     "metadata": {},
     "output_type": "execute_result"
    }
   ],
   "source": [
    "modeldf.count()"
   ]
  },
  {
   "cell_type": "code",
   "execution_count": 46,
   "metadata": {},
   "outputs": [
    {
     "data": {
      "text/plain": [
       "DAY_OF_WEEK                 int64\n",
       "depHour                  category\n",
       "OP_CARRIER_AIRLINE_ID       int64\n",
       "DEP_DEL15                 float64\n",
       "ORIGIN_STATE_ABR_AL         uint8\n",
       "ORIGIN_STATE_ABR_CA         uint8\n",
       "ORIGIN_STATE_ABR_CT         uint8\n",
       "ORIGIN_STATE_ABR_GA         uint8\n",
       "ORIGIN_STATE_ABR_ID         uint8\n",
       "ORIGIN_STATE_ABR_MA         uint8\n",
       "ORIGIN_STATE_ABR_MD         uint8\n",
       "ORIGIN_STATE_ABR_NM         uint8\n",
       "ORIGIN_STATE_ABR_NY         uint8\n",
       "ORIGIN_STATE_ABR_TN         uint8\n",
       "ORIGIN_STATE_ABR_TX         uint8\n",
       "dtype: object"
      ]
     },
     "execution_count": 46,
     "metadata": {},
     "output_type": "execute_result"
    }
   ],
   "source": [
    "modeldf.dtypes"
   ]
  },
  {
   "cell_type": "code",
   "execution_count": 48,
   "metadata": {},
   "outputs": [],
   "source": [
    "modeldf['depHour']=modeldf['depHour'].astype(int)"
   ]
  },
  {
   "cell_type": "code",
   "execution_count": 49,
   "metadata": {},
   "outputs": [
    {
     "data": {
      "text/html": [
       "<div>\n",
       "<style scoped>\n",
       "    .dataframe tbody tr th:only-of-type {\n",
       "        vertical-align: middle;\n",
       "    }\n",
       "\n",
       "    .dataframe tbody tr th {\n",
       "        vertical-align: top;\n",
       "    }\n",
       "\n",
       "    .dataframe thead th {\n",
       "        text-align: right;\n",
       "    }\n",
       "</style>\n",
       "<table border=\"1\" class=\"dataframe\">\n",
       "  <thead>\n",
       "    <tr style=\"text-align: right;\">\n",
       "      <th></th>\n",
       "      <th>DAY_OF_WEEK</th>\n",
       "      <th>depHour</th>\n",
       "      <th>OP_CARRIER_AIRLINE_ID</th>\n",
       "      <th>DEP_DEL15</th>\n",
       "      <th>ORIGIN_STATE_ABR_AL</th>\n",
       "      <th>ORIGIN_STATE_ABR_CA</th>\n",
       "      <th>ORIGIN_STATE_ABR_CT</th>\n",
       "      <th>ORIGIN_STATE_ABR_GA</th>\n",
       "      <th>ORIGIN_STATE_ABR_ID</th>\n",
       "      <th>ORIGIN_STATE_ABR_MA</th>\n",
       "      <th>ORIGIN_STATE_ABR_MD</th>\n",
       "      <th>ORIGIN_STATE_ABR_NM</th>\n",
       "      <th>ORIGIN_STATE_ABR_NY</th>\n",
       "      <th>ORIGIN_STATE_ABR_TN</th>\n",
       "      <th>ORIGIN_STATE_ABR_TX</th>\n",
       "    </tr>\n",
       "  </thead>\n",
       "  <tbody>\n",
       "    <tr>\n",
       "      <td>DAY_OF_WEEK</td>\n",
       "      <td>NaN</td>\n",
       "      <td>NaN</td>\n",
       "      <td>NaN</td>\n",
       "      <td>NaN</td>\n",
       "      <td>NaN</td>\n",
       "      <td>NaN</td>\n",
       "      <td>NaN</td>\n",
       "      <td>NaN</td>\n",
       "      <td>NaN</td>\n",
       "      <td>NaN</td>\n",
       "      <td>NaN</td>\n",
       "      <td>NaN</td>\n",
       "      <td>NaN</td>\n",
       "      <td>NaN</td>\n",
       "      <td>NaN</td>\n",
       "    </tr>\n",
       "    <tr>\n",
       "      <td>depHour</td>\n",
       "      <td>NaN</td>\n",
       "      <td>1.000000</td>\n",
       "      <td>NaN</td>\n",
       "      <td>0.201836</td>\n",
       "      <td>-0.021426</td>\n",
       "      <td>0.028920</td>\n",
       "      <td>-0.101635</td>\n",
       "      <td>0.096372</td>\n",
       "      <td>-0.000610</td>\n",
       "      <td>-0.042289</td>\n",
       "      <td>0.061008</td>\n",
       "      <td>-0.048188</td>\n",
       "      <td>-0.085039</td>\n",
       "      <td>0.005055</td>\n",
       "      <td>-0.023130</td>\n",
       "    </tr>\n",
       "    <tr>\n",
       "      <td>OP_CARRIER_AIRLINE_ID</td>\n",
       "      <td>NaN</td>\n",
       "      <td>NaN</td>\n",
       "      <td>NaN</td>\n",
       "      <td>NaN</td>\n",
       "      <td>NaN</td>\n",
       "      <td>NaN</td>\n",
       "      <td>NaN</td>\n",
       "      <td>NaN</td>\n",
       "      <td>NaN</td>\n",
       "      <td>NaN</td>\n",
       "      <td>NaN</td>\n",
       "      <td>NaN</td>\n",
       "      <td>NaN</td>\n",
       "      <td>NaN</td>\n",
       "      <td>NaN</td>\n",
       "    </tr>\n",
       "    <tr>\n",
       "      <td>DEP_DEL15</td>\n",
       "      <td>NaN</td>\n",
       "      <td>0.201836</td>\n",
       "      <td>NaN</td>\n",
       "      <td>1.000000</td>\n",
       "      <td>-0.014066</td>\n",
       "      <td>-0.007865</td>\n",
       "      <td>-0.024823</td>\n",
       "      <td>0.037836</td>\n",
       "      <td>-0.054421</td>\n",
       "      <td>0.131484</td>\n",
       "      <td>-0.020562</td>\n",
       "      <td>0.053398</td>\n",
       "      <td>-0.079564</td>\n",
       "      <td>-0.042216</td>\n",
       "      <td>-0.013464</td>\n",
       "    </tr>\n",
       "    <tr>\n",
       "      <td>ORIGIN_STATE_ABR_AL</td>\n",
       "      <td>NaN</td>\n",
       "      <td>-0.021426</td>\n",
       "      <td>NaN</td>\n",
       "      <td>-0.014066</td>\n",
       "      <td>1.000000</td>\n",
       "      <td>-0.053376</td>\n",
       "      <td>-0.026230</td>\n",
       "      <td>-0.082802</td>\n",
       "      <td>-0.023392</td>\n",
       "      <td>-0.039610</td>\n",
       "      <td>-0.046258</td>\n",
       "      <td>-0.040247</td>\n",
       "      <td>-0.034199</td>\n",
       "      <td>-0.076472</td>\n",
       "      <td>-0.059494</td>\n",
       "    </tr>\n",
       "    <tr>\n",
       "      <td>ORIGIN_STATE_ABR_CA</td>\n",
       "      <td>NaN</td>\n",
       "      <td>0.028920</td>\n",
       "      <td>NaN</td>\n",
       "      <td>-0.007865</td>\n",
       "      <td>-0.053376</td>\n",
       "      <td>1.000000</td>\n",
       "      <td>-0.059852</td>\n",
       "      <td>-0.188940</td>\n",
       "      <td>-0.053376</td>\n",
       "      <td>-0.090383</td>\n",
       "      <td>-0.105552</td>\n",
       "      <td>-0.091836</td>\n",
       "      <td>-0.078037</td>\n",
       "      <td>-0.174496</td>\n",
       "      <td>-0.135755</td>\n",
       "    </tr>\n",
       "    <tr>\n",
       "      <td>ORIGIN_STATE_ABR_CT</td>\n",
       "      <td>NaN</td>\n",
       "      <td>-0.101635</td>\n",
       "      <td>NaN</td>\n",
       "      <td>-0.024823</td>\n",
       "      <td>-0.026230</td>\n",
       "      <td>-0.059852</td>\n",
       "      <td>1.000000</td>\n",
       "      <td>-0.092848</td>\n",
       "      <td>-0.026230</td>\n",
       "      <td>-0.044416</td>\n",
       "      <td>-0.051870</td>\n",
       "      <td>-0.045129</td>\n",
       "      <td>-0.038348</td>\n",
       "      <td>-0.085749</td>\n",
       "      <td>-0.066712</td>\n",
       "    </tr>\n",
       "    <tr>\n",
       "      <td>ORIGIN_STATE_ABR_GA</td>\n",
       "      <td>NaN</td>\n",
       "      <td>0.096372</td>\n",
       "      <td>NaN</td>\n",
       "      <td>0.037836</td>\n",
       "      <td>-0.082802</td>\n",
       "      <td>-0.188940</td>\n",
       "      <td>-0.092848</td>\n",
       "      <td>1.000000</td>\n",
       "      <td>-0.082802</td>\n",
       "      <td>-0.140212</td>\n",
       "      <td>-0.163744</td>\n",
       "      <td>-0.142465</td>\n",
       "      <td>-0.121059</td>\n",
       "      <td>-0.270695</td>\n",
       "      <td>-0.210597</td>\n",
       "    </tr>\n",
       "    <tr>\n",
       "      <td>ORIGIN_STATE_ABR_ID</td>\n",
       "      <td>NaN</td>\n",
       "      <td>-0.000610</td>\n",
       "      <td>NaN</td>\n",
       "      <td>-0.054421</td>\n",
       "      <td>-0.023392</td>\n",
       "      <td>-0.053376</td>\n",
       "      <td>-0.026230</td>\n",
       "      <td>-0.082802</td>\n",
       "      <td>1.000000</td>\n",
       "      <td>-0.039610</td>\n",
       "      <td>-0.046258</td>\n",
       "      <td>-0.040247</td>\n",
       "      <td>-0.034199</td>\n",
       "      <td>-0.076472</td>\n",
       "      <td>-0.059494</td>\n",
       "    </tr>\n",
       "    <tr>\n",
       "      <td>ORIGIN_STATE_ABR_MA</td>\n",
       "      <td>NaN</td>\n",
       "      <td>-0.042289</td>\n",
       "      <td>NaN</td>\n",
       "      <td>0.131484</td>\n",
       "      <td>-0.039610</td>\n",
       "      <td>-0.090383</td>\n",
       "      <td>-0.044416</td>\n",
       "      <td>-0.140212</td>\n",
       "      <td>-0.039610</td>\n",
       "      <td>1.000000</td>\n",
       "      <td>-0.078330</td>\n",
       "      <td>-0.068151</td>\n",
       "      <td>-0.057911</td>\n",
       "      <td>-0.129492</td>\n",
       "      <td>-0.100743</td>\n",
       "    </tr>\n",
       "    <tr>\n",
       "      <td>ORIGIN_STATE_ABR_MD</td>\n",
       "      <td>NaN</td>\n",
       "      <td>0.061008</td>\n",
       "      <td>NaN</td>\n",
       "      <td>-0.020562</td>\n",
       "      <td>-0.046258</td>\n",
       "      <td>-0.105552</td>\n",
       "      <td>-0.051870</td>\n",
       "      <td>-0.163744</td>\n",
       "      <td>-0.046258</td>\n",
       "      <td>-0.078330</td>\n",
       "      <td>1.000000</td>\n",
       "      <td>-0.079589</td>\n",
       "      <td>-0.067630</td>\n",
       "      <td>-0.151225</td>\n",
       "      <td>-0.117651</td>\n",
       "    </tr>\n",
       "    <tr>\n",
       "      <td>ORIGIN_STATE_ABR_NM</td>\n",
       "      <td>NaN</td>\n",
       "      <td>-0.048188</td>\n",
       "      <td>NaN</td>\n",
       "      <td>0.053398</td>\n",
       "      <td>-0.040247</td>\n",
       "      <td>-0.091836</td>\n",
       "      <td>-0.045129</td>\n",
       "      <td>-0.142465</td>\n",
       "      <td>-0.040247</td>\n",
       "      <td>-0.068151</td>\n",
       "      <td>-0.079589</td>\n",
       "      <td>1.000000</td>\n",
       "      <td>-0.058841</td>\n",
       "      <td>-0.131574</td>\n",
       "      <td>-0.102362</td>\n",
       "    </tr>\n",
       "    <tr>\n",
       "      <td>ORIGIN_STATE_ABR_NY</td>\n",
       "      <td>NaN</td>\n",
       "      <td>-0.085039</td>\n",
       "      <td>NaN</td>\n",
       "      <td>-0.079564</td>\n",
       "      <td>-0.034199</td>\n",
       "      <td>-0.078037</td>\n",
       "      <td>-0.038348</td>\n",
       "      <td>-0.121059</td>\n",
       "      <td>-0.034199</td>\n",
       "      <td>-0.057911</td>\n",
       "      <td>-0.067630</td>\n",
       "      <td>-0.058841</td>\n",
       "      <td>1.000000</td>\n",
       "      <td>-0.111803</td>\n",
       "      <td>-0.086982</td>\n",
       "    </tr>\n",
       "    <tr>\n",
       "      <td>ORIGIN_STATE_ABR_TN</td>\n",
       "      <td>NaN</td>\n",
       "      <td>0.005055</td>\n",
       "      <td>NaN</td>\n",
       "      <td>-0.042216</td>\n",
       "      <td>-0.076472</td>\n",
       "      <td>-0.174496</td>\n",
       "      <td>-0.085749</td>\n",
       "      <td>-0.270695</td>\n",
       "      <td>-0.076472</td>\n",
       "      <td>-0.129492</td>\n",
       "      <td>-0.151225</td>\n",
       "      <td>-0.131574</td>\n",
       "      <td>-0.111803</td>\n",
       "      <td>1.000000</td>\n",
       "      <td>-0.194497</td>\n",
       "    </tr>\n",
       "    <tr>\n",
       "      <td>ORIGIN_STATE_ABR_TX</td>\n",
       "      <td>NaN</td>\n",
       "      <td>-0.023130</td>\n",
       "      <td>NaN</td>\n",
       "      <td>-0.013464</td>\n",
       "      <td>-0.059494</td>\n",
       "      <td>-0.135755</td>\n",
       "      <td>-0.066712</td>\n",
       "      <td>-0.210597</td>\n",
       "      <td>-0.059494</td>\n",
       "      <td>-0.100743</td>\n",
       "      <td>-0.117651</td>\n",
       "      <td>-0.102362</td>\n",
       "      <td>-0.086982</td>\n",
       "      <td>-0.194497</td>\n",
       "      <td>1.000000</td>\n",
       "    </tr>\n",
       "  </tbody>\n",
       "</table>\n",
       "</div>"
      ],
      "text/plain": [
       "                       DAY_OF_WEEK   depHour  OP_CARRIER_AIRLINE_ID  \\\n",
       "DAY_OF_WEEK                    NaN       NaN                    NaN   \n",
       "depHour                        NaN  1.000000                    NaN   \n",
       "OP_CARRIER_AIRLINE_ID          NaN       NaN                    NaN   \n",
       "DEP_DEL15                      NaN  0.201836                    NaN   \n",
       "ORIGIN_STATE_ABR_AL            NaN -0.021426                    NaN   \n",
       "ORIGIN_STATE_ABR_CA            NaN  0.028920                    NaN   \n",
       "ORIGIN_STATE_ABR_CT            NaN -0.101635                    NaN   \n",
       "ORIGIN_STATE_ABR_GA            NaN  0.096372                    NaN   \n",
       "ORIGIN_STATE_ABR_ID            NaN -0.000610                    NaN   \n",
       "ORIGIN_STATE_ABR_MA            NaN -0.042289                    NaN   \n",
       "ORIGIN_STATE_ABR_MD            NaN  0.061008                    NaN   \n",
       "ORIGIN_STATE_ABR_NM            NaN -0.048188                    NaN   \n",
       "ORIGIN_STATE_ABR_NY            NaN -0.085039                    NaN   \n",
       "ORIGIN_STATE_ABR_TN            NaN  0.005055                    NaN   \n",
       "ORIGIN_STATE_ABR_TX            NaN -0.023130                    NaN   \n",
       "\n",
       "                       DEP_DEL15  ORIGIN_STATE_ABR_AL  ORIGIN_STATE_ABR_CA  \\\n",
       "DAY_OF_WEEK                  NaN                  NaN                  NaN   \n",
       "depHour                 0.201836            -0.021426             0.028920   \n",
       "OP_CARRIER_AIRLINE_ID        NaN                  NaN                  NaN   \n",
       "DEP_DEL15               1.000000            -0.014066            -0.007865   \n",
       "ORIGIN_STATE_ABR_AL    -0.014066             1.000000            -0.053376   \n",
       "ORIGIN_STATE_ABR_CA    -0.007865            -0.053376             1.000000   \n",
       "ORIGIN_STATE_ABR_CT    -0.024823            -0.026230            -0.059852   \n",
       "ORIGIN_STATE_ABR_GA     0.037836            -0.082802            -0.188940   \n",
       "ORIGIN_STATE_ABR_ID    -0.054421            -0.023392            -0.053376   \n",
       "ORIGIN_STATE_ABR_MA     0.131484            -0.039610            -0.090383   \n",
       "ORIGIN_STATE_ABR_MD    -0.020562            -0.046258            -0.105552   \n",
       "ORIGIN_STATE_ABR_NM     0.053398            -0.040247            -0.091836   \n",
       "ORIGIN_STATE_ABR_NY    -0.079564            -0.034199            -0.078037   \n",
       "ORIGIN_STATE_ABR_TN    -0.042216            -0.076472            -0.174496   \n",
       "ORIGIN_STATE_ABR_TX    -0.013464            -0.059494            -0.135755   \n",
       "\n",
       "                       ORIGIN_STATE_ABR_CT  ORIGIN_STATE_ABR_GA  \\\n",
       "DAY_OF_WEEK                            NaN                  NaN   \n",
       "depHour                          -0.101635             0.096372   \n",
       "OP_CARRIER_AIRLINE_ID                  NaN                  NaN   \n",
       "DEP_DEL15                        -0.024823             0.037836   \n",
       "ORIGIN_STATE_ABR_AL              -0.026230            -0.082802   \n",
       "ORIGIN_STATE_ABR_CA              -0.059852            -0.188940   \n",
       "ORIGIN_STATE_ABR_CT               1.000000            -0.092848   \n",
       "ORIGIN_STATE_ABR_GA              -0.092848             1.000000   \n",
       "ORIGIN_STATE_ABR_ID              -0.026230            -0.082802   \n",
       "ORIGIN_STATE_ABR_MA              -0.044416            -0.140212   \n",
       "ORIGIN_STATE_ABR_MD              -0.051870            -0.163744   \n",
       "ORIGIN_STATE_ABR_NM              -0.045129            -0.142465   \n",
       "ORIGIN_STATE_ABR_NY              -0.038348            -0.121059   \n",
       "ORIGIN_STATE_ABR_TN              -0.085749            -0.270695   \n",
       "ORIGIN_STATE_ABR_TX              -0.066712            -0.210597   \n",
       "\n",
       "                       ORIGIN_STATE_ABR_ID  ORIGIN_STATE_ABR_MA  \\\n",
       "DAY_OF_WEEK                            NaN                  NaN   \n",
       "depHour                          -0.000610            -0.042289   \n",
       "OP_CARRIER_AIRLINE_ID                  NaN                  NaN   \n",
       "DEP_DEL15                        -0.054421             0.131484   \n",
       "ORIGIN_STATE_ABR_AL              -0.023392            -0.039610   \n",
       "ORIGIN_STATE_ABR_CA              -0.053376            -0.090383   \n",
       "ORIGIN_STATE_ABR_CT              -0.026230            -0.044416   \n",
       "ORIGIN_STATE_ABR_GA              -0.082802            -0.140212   \n",
       "ORIGIN_STATE_ABR_ID               1.000000            -0.039610   \n",
       "ORIGIN_STATE_ABR_MA              -0.039610             1.000000   \n",
       "ORIGIN_STATE_ABR_MD              -0.046258            -0.078330   \n",
       "ORIGIN_STATE_ABR_NM              -0.040247            -0.068151   \n",
       "ORIGIN_STATE_ABR_NY              -0.034199            -0.057911   \n",
       "ORIGIN_STATE_ABR_TN              -0.076472            -0.129492   \n",
       "ORIGIN_STATE_ABR_TX              -0.059494            -0.100743   \n",
       "\n",
       "                       ORIGIN_STATE_ABR_MD  ORIGIN_STATE_ABR_NM  \\\n",
       "DAY_OF_WEEK                            NaN                  NaN   \n",
       "depHour                           0.061008            -0.048188   \n",
       "OP_CARRIER_AIRLINE_ID                  NaN                  NaN   \n",
       "DEP_DEL15                        -0.020562             0.053398   \n",
       "ORIGIN_STATE_ABR_AL              -0.046258            -0.040247   \n",
       "ORIGIN_STATE_ABR_CA              -0.105552            -0.091836   \n",
       "ORIGIN_STATE_ABR_CT              -0.051870            -0.045129   \n",
       "ORIGIN_STATE_ABR_GA              -0.163744            -0.142465   \n",
       "ORIGIN_STATE_ABR_ID              -0.046258            -0.040247   \n",
       "ORIGIN_STATE_ABR_MA              -0.078330            -0.068151   \n",
       "ORIGIN_STATE_ABR_MD               1.000000            -0.079589   \n",
       "ORIGIN_STATE_ABR_NM              -0.079589             1.000000   \n",
       "ORIGIN_STATE_ABR_NY              -0.067630            -0.058841   \n",
       "ORIGIN_STATE_ABR_TN              -0.151225            -0.131574   \n",
       "ORIGIN_STATE_ABR_TX              -0.117651            -0.102362   \n",
       "\n",
       "                       ORIGIN_STATE_ABR_NY  ORIGIN_STATE_ABR_TN  \\\n",
       "DAY_OF_WEEK                            NaN                  NaN   \n",
       "depHour                          -0.085039             0.005055   \n",
       "OP_CARRIER_AIRLINE_ID                  NaN                  NaN   \n",
       "DEP_DEL15                        -0.079564            -0.042216   \n",
       "ORIGIN_STATE_ABR_AL              -0.034199            -0.076472   \n",
       "ORIGIN_STATE_ABR_CA              -0.078037            -0.174496   \n",
       "ORIGIN_STATE_ABR_CT              -0.038348            -0.085749   \n",
       "ORIGIN_STATE_ABR_GA              -0.121059            -0.270695   \n",
       "ORIGIN_STATE_ABR_ID              -0.034199            -0.076472   \n",
       "ORIGIN_STATE_ABR_MA              -0.057911            -0.129492   \n",
       "ORIGIN_STATE_ABR_MD              -0.067630            -0.151225   \n",
       "ORIGIN_STATE_ABR_NM              -0.058841            -0.131574   \n",
       "ORIGIN_STATE_ABR_NY               1.000000            -0.111803   \n",
       "ORIGIN_STATE_ABR_TN              -0.111803             1.000000   \n",
       "ORIGIN_STATE_ABR_TX              -0.086982            -0.194497   \n",
       "\n",
       "                       ORIGIN_STATE_ABR_TX  \n",
       "DAY_OF_WEEK                            NaN  \n",
       "depHour                          -0.023130  \n",
       "OP_CARRIER_AIRLINE_ID                  NaN  \n",
       "DEP_DEL15                        -0.013464  \n",
       "ORIGIN_STATE_ABR_AL              -0.059494  \n",
       "ORIGIN_STATE_ABR_CA              -0.135755  \n",
       "ORIGIN_STATE_ABR_CT              -0.066712  \n",
       "ORIGIN_STATE_ABR_GA              -0.210597  \n",
       "ORIGIN_STATE_ABR_ID              -0.059494  \n",
       "ORIGIN_STATE_ABR_MA              -0.100743  \n",
       "ORIGIN_STATE_ABR_MD              -0.117651  \n",
       "ORIGIN_STATE_ABR_NM              -0.102362  \n",
       "ORIGIN_STATE_ABR_NY              -0.086982  \n",
       "ORIGIN_STATE_ABR_TN              -0.194497  \n",
       "ORIGIN_STATE_ABR_TX               1.000000  "
      ]
     },
     "execution_count": 49,
     "metadata": {},
     "output_type": "execute_result"
    }
   ],
   "source": [
    "modeldf.corr()"
   ]
  },
  {
   "cell_type": "code",
   "execution_count": 50,
   "metadata": {},
   "outputs": [],
   "source": [
    "X = modeldf.drop('DEP_DEL15', axis=1)\n",
    "y = modeldf['DEP_DEL15']"
   ]
  },
  {
   "cell_type": "code",
   "execution_count": 53,
   "metadata": {},
   "outputs": [],
   "source": [
    "X_train, X_test, y_train, y_test = train_test_split(X, y, random_state=747)"
   ]
  },
  {
   "cell_type": "code",
   "execution_count": 54,
   "metadata": {},
   "outputs": [
    {
     "name": "stderr",
     "output_type": "stream",
     "text": [
      "C:\\ProgramData\\Anaconda3\\lib\\site-packages\\sklearn\\linear_model\\logistic.py:432: FutureWarning: Default solver will be changed to 'lbfgs' in 0.22. Specify a solver to silence this warning.\n",
      "  FutureWarning)\n"
     ]
    },
    {
     "data": {
      "text/plain": [
       "LogisticRegression(C=1.0, class_weight=None, dual=False, fit_intercept=True,\n",
       "                   intercept_scaling=1, l1_ratio=None, max_iter=100,\n",
       "                   multi_class='warn', n_jobs=None, penalty='l2',\n",
       "                   random_state=None, solver='warn', tol=0.0001, verbose=0,\n",
       "                   warm_start=False)"
      ]
     },
     "execution_count": 54,
     "metadata": {},
     "output_type": "execute_result"
    }
   ],
   "source": [
    "LogReg = LogisticRegression()\n",
    "LogReg.fit(X_train, y_train)"
   ]
  },
  {
   "cell_type": "code",
   "execution_count": 55,
   "metadata": {},
   "outputs": [
    {
     "data": {
      "text/plain": [
       "0.9083969465648855"
      ]
     },
     "execution_count": 55,
     "metadata": {},
     "output_type": "execute_result"
    }
   ],
   "source": [
    "LogReg.score(X_train, y_train)"
   ]
  },
  {
   "cell_type": "code",
   "execution_count": 56,
   "metadata": {},
   "outputs": [],
   "source": [
    "y_pred = LogReg.predict(X_test)"
   ]
  },
  {
   "cell_type": "code",
   "execution_count": 57,
   "metadata": {},
   "outputs": [
    {
     "data": {
      "text/html": [
       "<div>\n",
       "<style scoped>\n",
       "    .dataframe tbody tr th:only-of-type {\n",
       "        vertical-align: middle;\n",
       "    }\n",
       "\n",
       "    .dataframe tbody tr th {\n",
       "        vertical-align: top;\n",
       "    }\n",
       "\n",
       "    .dataframe thead th {\n",
       "        text-align: right;\n",
       "    }\n",
       "</style>\n",
       "<table border=\"1\" class=\"dataframe\">\n",
       "  <thead>\n",
       "    <tr style=\"text-align: right;\">\n",
       "      <th></th>\n",
       "      <th>Predicted On Time</th>\n",
       "      <th>Predicted Late</th>\n",
       "    </tr>\n",
       "  </thead>\n",
       "  <tbody>\n",
       "    <tr>\n",
       "      <td>True On Time</td>\n",
       "      <td>109</td>\n",
       "      <td>0</td>\n",
       "    </tr>\n",
       "    <tr>\n",
       "      <td>True Late</td>\n",
       "      <td>23</td>\n",
       "      <td>0</td>\n",
       "    </tr>\n",
       "  </tbody>\n",
       "</table>\n",
       "</div>"
      ],
      "text/plain": [
       "              Predicted On Time  Predicted Late\n",
       "True On Time                109               0\n",
       "True Late                    23               0"
      ]
     },
     "execution_count": 57,
     "metadata": {},
     "output_type": "execute_result"
    }
   ],
   "source": [
    "cm = pd.DataFrame(\n",
    "    confusion_matrix(y_test, y_pred),\n",
    "    columns=['Predicted On Time', 'Predicted Late'],\n",
    "    index=['True On Time', 'True Late']\n",
    ")\n",
    "\n",
    "cm"
   ]
  },
  {
   "cell_type": "code",
   "execution_count": 58,
   "metadata": {},
   "outputs": [
    {
     "data": {
      "text/plain": [
       "0.8257575757575758"
      ]
     },
     "execution_count": 58,
     "metadata": {},
     "output_type": "execute_result"
    }
   ],
   "source": [
    "LogReg.score(X_test, y_test)"
   ]
  },
  {
   "cell_type": "code",
   "execution_count": 59,
   "metadata": {},
   "outputs": [
    {
     "name": "stdout",
     "output_type": "stream",
     "text": [
      "              precision    recall  f1-score   support\n",
      "\n",
      "         0.0       0.83      1.00      0.90       109\n",
      "         1.0       0.00      0.00      0.00        23\n",
      "\n",
      "    accuracy                           0.83       132\n",
      "   macro avg       0.41      0.50      0.45       132\n",
      "weighted avg       0.68      0.83      0.75       132\n",
      "\n"
     ]
    },
    {
     "name": "stderr",
     "output_type": "stream",
     "text": [
      "C:\\ProgramData\\Anaconda3\\lib\\site-packages\\sklearn\\metrics\\classification.py:1437: UndefinedMetricWarning: Precision and F-score are ill-defined and being set to 0.0 in labels with no predicted samples.\n",
      "  'precision', 'predicted', average, warn_for)\n"
     ]
    }
   ],
   "source": [
    "print(classification_report(y_test, y_pred)) #Logistic Regression"
   ]
  },
  {
   "cell_type": "code",
   "execution_count": 60,
   "metadata": {},
   "outputs": [
    {
     "data": {
      "text/plain": [
       "LinearRegression(copy_X=True, fit_intercept=True, n_jobs=None, normalize=False)"
      ]
     },
     "execution_count": 60,
     "metadata": {},
     "output_type": "execute_result"
    }
   ],
   "source": [
    "lm = LinearRegression()\n",
    "lm"
   ]
  },
  {
   "cell_type": "code",
   "execution_count": 63,
   "metadata": {},
   "outputs": [
    {
     "data": {
      "text/plain": [
       "LinearRegression(copy_X=True, fit_intercept=True, n_jobs=None, normalize=False)"
      ]
     },
     "execution_count": 63,
     "metadata": {},
     "output_type": "execute_result"
    }
   ],
   "source": [
    "lm.fit(X_train, y_train)"
   ]
  },
  {
   "cell_type": "code",
   "execution_count": 64,
   "metadata": {},
   "outputs": [
    {
     "data": {
      "text/plain": [
       "0.0747989034010369"
      ]
     },
     "execution_count": 64,
     "metadata": {},
     "output_type": "execute_result"
    }
   ],
   "source": [
    "lm.score(X_train, y_train)"
   ]
  },
  {
   "cell_type": "code",
   "execution_count": 65,
   "metadata": {},
   "outputs": [],
   "source": [
    "pred_train = lm.predict(X_train)\n",
    "pred_test = lm.predict(X_test)"
   ]
  },
  {
   "cell_type": "code",
   "execution_count": 68,
   "metadata": {},
   "outputs": [
    {
     "name": "stdout",
     "output_type": "stream",
     "text": [
      "0.0747989034010369\n",
      "-0.005811920719180019\n"
     ]
    }
   ],
   "source": [
    "print(lm.score(X_train, y_train))\n",
    "print(lm.score(X_test, y_test))"
   ]
  },
  {
   "cell_type": "code",
   "execution_count": 69,
   "metadata": {},
   "outputs": [
    {
     "data": {
      "text/html": [
       "<div>\n",
       "<style scoped>\n",
       "    .dataframe tbody tr th:only-of-type {\n",
       "        vertical-align: middle;\n",
       "    }\n",
       "\n",
       "    .dataframe tbody tr th {\n",
       "        vertical-align: top;\n",
       "    }\n",
       "\n",
       "    .dataframe thead th {\n",
       "        text-align: right;\n",
       "    }\n",
       "</style>\n",
       "<table border=\"1\" class=\"dataframe\">\n",
       "  <thead>\n",
       "    <tr style=\"text-align: right;\">\n",
       "      <th></th>\n",
       "      <th>Predicted On Time</th>\n",
       "      <th>Predicted Late</th>\n",
       "    </tr>\n",
       "  </thead>\n",
       "  <tbody>\n",
       "    <tr>\n",
       "      <td>True On Time</td>\n",
       "      <td>109</td>\n",
       "      <td>0</td>\n",
       "    </tr>\n",
       "    <tr>\n",
       "      <td>True Late</td>\n",
       "      <td>23</td>\n",
       "      <td>0</td>\n",
       "    </tr>\n",
       "  </tbody>\n",
       "</table>\n",
       "</div>"
      ],
      "text/plain": [
       "              Predicted On Time  Predicted Late\n",
       "True On Time                109               0\n",
       "True Late                    23               0"
      ]
     },
     "execution_count": 69,
     "metadata": {},
     "output_type": "execute_result"
    }
   ],
   "source": [
    "cm = pd.DataFrame(\n",
    "    confusion_matrix(y_test, y_pred),\n",
    "    columns=['Predicted On Time', 'Predicted Late'],\n",
    "    index=['True On Time', 'True Late']\n",
    ")\n",
    "\n",
    "cm"
   ]
  },
  {
   "cell_type": "code",
   "execution_count": 70,
   "metadata": {},
   "outputs": [
    {
     "name": "stdout",
     "output_type": "stream",
     "text": [
      "              precision    recall  f1-score   support\n",
      "\n",
      "         0.0       0.83      1.00      0.90       109\n",
      "         1.0       0.00      0.00      0.00        23\n",
      "\n",
      "    accuracy                           0.83       132\n",
      "   macro avg       0.41      0.50      0.45       132\n",
      "weighted avg       0.68      0.83      0.75       132\n",
      "\n"
     ]
    },
    {
     "name": "stderr",
     "output_type": "stream",
     "text": [
      "C:\\ProgramData\\Anaconda3\\lib\\site-packages\\sklearn\\metrics\\classification.py:1437: UndefinedMetricWarning: Precision and F-score are ill-defined and being set to 0.0 in labels with no predicted samples.\n",
      "  'precision', 'predicted', average, warn_for)\n"
     ]
    }
   ],
   "source": [
    "print(classification_report(y_test, y_pred)) #Linear Regression"
   ]
  },
  {
   "cell_type": "code",
   "execution_count": 71,
   "metadata": {},
   "outputs": [],
   "source": [
    "tree = tree.DecisionTreeClassifier()"
   ]
  },
  {
   "cell_type": "code",
   "execution_count": 72,
   "metadata": {},
   "outputs": [
    {
     "data": {
      "text/plain": [
       "DecisionTreeClassifier(class_weight=None, criterion='gini', max_depth=None,\n",
       "                       max_features=None, max_leaf_nodes=None,\n",
       "                       min_impurity_decrease=0.0, min_impurity_split=None,\n",
       "                       min_samples_leaf=1, min_samples_split=2,\n",
       "                       min_weight_fraction_leaf=0.0, presort=False,\n",
       "                       random_state=None, splitter='best')"
      ]
     },
     "execution_count": 72,
     "metadata": {},
     "output_type": "execute_result"
    }
   ],
   "source": [
    "tree.fit(X_train, y_train)"
   ]
  },
  {
   "cell_type": "code",
   "execution_count": 73,
   "metadata": {},
   "outputs": [
    {
     "data": {
      "text/plain": [
       "0.9312977099236641"
      ]
     },
     "execution_count": 73,
     "metadata": {},
     "output_type": "execute_result"
    }
   ],
   "source": [
    "tree.score(X_train, y_train)"
   ]
  },
  {
   "cell_type": "code",
   "execution_count": 74,
   "metadata": {},
   "outputs": [],
   "source": [
    "y_predict = tree.predict(X_test)"
   ]
  },
  {
   "cell_type": "code",
   "execution_count": 75,
   "metadata": {},
   "outputs": [
    {
     "data": {
      "text/plain": [
       "0.8333333333333334"
      ]
     },
     "execution_count": 75,
     "metadata": {},
     "output_type": "execute_result"
    }
   ],
   "source": [
    "tree.score(X_test, y_test)"
   ]
  },
  {
   "cell_type": "code",
   "execution_count": 77,
   "metadata": {},
   "outputs": [
    {
     "data": {
      "text/html": [
       "<div>\n",
       "<style scoped>\n",
       "    .dataframe tbody tr th:only-of-type {\n",
       "        vertical-align: middle;\n",
       "    }\n",
       "\n",
       "    .dataframe tbody tr th {\n",
       "        vertical-align: top;\n",
       "    }\n",
       "\n",
       "    .dataframe thead th {\n",
       "        text-align: right;\n",
       "    }\n",
       "</style>\n",
       "<table border=\"1\" class=\"dataframe\">\n",
       "  <thead>\n",
       "    <tr style=\"text-align: right;\">\n",
       "      <th></th>\n",
       "      <th>Predicted On Time</th>\n",
       "      <th>Predicted Late</th>\n",
       "    </tr>\n",
       "  </thead>\n",
       "  <tbody>\n",
       "    <tr>\n",
       "      <td>True On Time</td>\n",
       "      <td>109</td>\n",
       "      <td>0</td>\n",
       "    </tr>\n",
       "    <tr>\n",
       "      <td>True Late</td>\n",
       "      <td>23</td>\n",
       "      <td>0</td>\n",
       "    </tr>\n",
       "  </tbody>\n",
       "</table>\n",
       "</div>"
      ],
      "text/plain": [
       "              Predicted On Time  Predicted Late\n",
       "True On Time                109               0\n",
       "True Late                    23               0"
      ]
     },
     "execution_count": 77,
     "metadata": {},
     "output_type": "execute_result"
    }
   ],
   "source": [
    "cm = pd.DataFrame(\n",
    "    confusion_matrix(y_test, y_pred),\n",
    "    columns=['Predicted On Time', 'Predicted Late'],\n",
    "    index=['True On Time', 'True Late']\n",
    ")\n",
    "\n",
    "cm"
   ]
  },
  {
   "cell_type": "code",
   "execution_count": 78,
   "metadata": {},
   "outputs": [
    {
     "name": "stdout",
     "output_type": "stream",
     "text": [
      "              precision    recall  f1-score   support\n",
      "\n",
      "         0.0       0.83      1.00      0.90       109\n",
      "         1.0       0.00      0.00      0.00        23\n",
      "\n",
      "    accuracy                           0.83       132\n",
      "   macro avg       0.41      0.50      0.45       132\n",
      "weighted avg       0.68      0.83      0.75       132\n",
      "\n"
     ]
    },
    {
     "name": "stderr",
     "output_type": "stream",
     "text": [
      "C:\\ProgramData\\Anaconda3\\lib\\site-packages\\sklearn\\metrics\\classification.py:1437: UndefinedMetricWarning: Precision and F-score are ill-defined and being set to 0.0 in labels with no predicted samples.\n",
      "  'precision', 'predicted', average, warn_for)\n"
     ]
    }
   ],
   "source": [
    "print(classification_report(y_test, y_pred)) #Decision Tree [*best so far*]"
   ]
  },
  {
   "cell_type": "code",
   "execution_count": 79,
   "metadata": {},
   "outputs": [],
   "source": [
    "gnb = GaussianNB()"
   ]
  },
  {
   "cell_type": "code",
   "execution_count": 80,
   "metadata": {},
   "outputs": [
    {
     "data": {
      "text/plain": [
       "GaussianNB(priors=None, var_smoothing=1e-09)"
      ]
     },
     "execution_count": 80,
     "metadata": {},
     "output_type": "execute_result"
    }
   ],
   "source": [
    "gnb.fit(X_train, y_train)"
   ]
  },
  {
   "cell_type": "code",
   "execution_count": 81,
   "metadata": {},
   "outputs": [
    {
     "data": {
      "text/plain": [
       "0.19338422391857507"
      ]
     },
     "execution_count": 81,
     "metadata": {},
     "output_type": "execute_result"
    }
   ],
   "source": [
    "gnb.score(X_train, y_train)"
   ]
  },
  {
   "cell_type": "code",
   "execution_count": 82,
   "metadata": {},
   "outputs": [],
   "source": [
    "y_pred = gnb.predict(X_test)"
   ]
  },
  {
   "cell_type": "code",
   "execution_count": 83,
   "metadata": {},
   "outputs": [
    {
     "data": {
      "text/html": [
       "<div>\n",
       "<style scoped>\n",
       "    .dataframe tbody tr th:only-of-type {\n",
       "        vertical-align: middle;\n",
       "    }\n",
       "\n",
       "    .dataframe tbody tr th {\n",
       "        vertical-align: top;\n",
       "    }\n",
       "\n",
       "    .dataframe thead th {\n",
       "        text-align: right;\n",
       "    }\n",
       "</style>\n",
       "<table border=\"1\" class=\"dataframe\">\n",
       "  <thead>\n",
       "    <tr style=\"text-align: right;\">\n",
       "      <th></th>\n",
       "      <th>Predicted On Time</th>\n",
       "      <th>Predicted Late</th>\n",
       "    </tr>\n",
       "  </thead>\n",
       "  <tbody>\n",
       "    <tr>\n",
       "      <td>True On Time</td>\n",
       "      <td>17</td>\n",
       "      <td>92</td>\n",
       "    </tr>\n",
       "    <tr>\n",
       "      <td>True Late</td>\n",
       "      <td>0</td>\n",
       "      <td>23</td>\n",
       "    </tr>\n",
       "  </tbody>\n",
       "</table>\n",
       "</div>"
      ],
      "text/plain": [
       "              Predicted On Time  Predicted Late\n",
       "True On Time                 17              92\n",
       "True Late                     0              23"
      ]
     },
     "execution_count": 83,
     "metadata": {},
     "output_type": "execute_result"
    }
   ],
   "source": [
    "cm = pd.DataFrame(\n",
    "    confusion_matrix(y_test, y_pred),\n",
    "    columns=['Predicted On Time', 'Predicted Late'],\n",
    "    index=['True On Time', 'True Late']\n",
    ")\n",
    "\n",
    "cm"
   ]
  },
  {
   "cell_type": "code",
   "execution_count": 84,
   "metadata": {},
   "outputs": [
    {
     "data": {
      "text/plain": [
       "0.30303030303030304"
      ]
     },
     "execution_count": 84,
     "metadata": {},
     "output_type": "execute_result"
    }
   ],
   "source": [
    "gnb.score(X_test, y_test)"
   ]
  },
  {
   "cell_type": "code",
   "execution_count": 85,
   "metadata": {},
   "outputs": [
    {
     "name": "stdout",
     "output_type": "stream",
     "text": [
      "              precision    recall  f1-score   support\n",
      "\n",
      "         0.0       1.00      0.16      0.27       109\n",
      "         1.0       0.20      1.00      0.33        23\n",
      "\n",
      "    accuracy                           0.30       132\n",
      "   macro avg       0.60      0.58      0.30       132\n",
      "weighted avg       0.86      0.30      0.28       132\n",
      "\n"
     ]
    }
   ],
   "source": [
    "print(classification_report(y_test, y_pred)) #Gaussian Naive Bayes"
   ]
  },
  {
   "cell_type": "code",
   "execution_count": 86,
   "metadata": {},
   "outputs": [],
   "source": [
    "bnb = BernoulliNB()"
   ]
  },
  {
   "cell_type": "code",
   "execution_count": 87,
   "metadata": {},
   "outputs": [
    {
     "data": {
      "text/plain": [
       "BernoulliNB(alpha=1.0, binarize=0.0, class_prior=None, fit_prior=True)"
      ]
     },
     "execution_count": 87,
     "metadata": {},
     "output_type": "execute_result"
    }
   ],
   "source": [
    "bnb.fit(X_train, y_train)"
   ]
  },
  {
   "cell_type": "code",
   "execution_count": 88,
   "metadata": {},
   "outputs": [
    {
     "data": {
      "text/plain": [
       "0.9083969465648855"
      ]
     },
     "execution_count": 88,
     "metadata": {},
     "output_type": "execute_result"
    }
   ],
   "source": [
    "bnb.score(X_train, y_train)"
   ]
  },
  {
   "cell_type": "code",
   "execution_count": 89,
   "metadata": {},
   "outputs": [],
   "source": [
    "y_pred = bnb.predict(X_test)"
   ]
  },
  {
   "cell_type": "code",
   "execution_count": 90,
   "metadata": {},
   "outputs": [
    {
     "data": {
      "text/html": [
       "<div>\n",
       "<style scoped>\n",
       "    .dataframe tbody tr th:only-of-type {\n",
       "        vertical-align: middle;\n",
       "    }\n",
       "\n",
       "    .dataframe tbody tr th {\n",
       "        vertical-align: top;\n",
       "    }\n",
       "\n",
       "    .dataframe thead th {\n",
       "        text-align: right;\n",
       "    }\n",
       "</style>\n",
       "<table border=\"1\" class=\"dataframe\">\n",
       "  <thead>\n",
       "    <tr style=\"text-align: right;\">\n",
       "      <th></th>\n",
       "      <th>Predicted On Time</th>\n",
       "      <th>Predicted Late</th>\n",
       "    </tr>\n",
       "  </thead>\n",
       "  <tbody>\n",
       "    <tr>\n",
       "      <td>True On Time</td>\n",
       "      <td>109</td>\n",
       "      <td>0</td>\n",
       "    </tr>\n",
       "    <tr>\n",
       "      <td>True Late</td>\n",
       "      <td>23</td>\n",
       "      <td>0</td>\n",
       "    </tr>\n",
       "  </tbody>\n",
       "</table>\n",
       "</div>"
      ],
      "text/plain": [
       "              Predicted On Time  Predicted Late\n",
       "True On Time                109               0\n",
       "True Late                    23               0"
      ]
     },
     "execution_count": 90,
     "metadata": {},
     "output_type": "execute_result"
    }
   ],
   "source": [
    "cm = pd.DataFrame(\n",
    "    confusion_matrix(y_test, y_pred),\n",
    "    columns=['Predicted On Time', 'Predicted Late'],\n",
    "    index=['True On Time', 'True Late']\n",
    ")\n",
    "\n",
    "cm"
   ]
  },
  {
   "cell_type": "code",
   "execution_count": 91,
   "metadata": {},
   "outputs": [
    {
     "data": {
      "text/plain": [
       "0.8257575757575758"
      ]
     },
     "execution_count": 91,
     "metadata": {},
     "output_type": "execute_result"
    }
   ],
   "source": [
    "bnb.score(X_test, y_test)"
   ]
  },
  {
   "cell_type": "code",
   "execution_count": 92,
   "metadata": {},
   "outputs": [
    {
     "name": "stdout",
     "output_type": "stream",
     "text": [
      "              precision    recall  f1-score   support\n",
      "\n",
      "         0.0       0.83      1.00      0.90       109\n",
      "         1.0       0.00      0.00      0.00        23\n",
      "\n",
      "    accuracy                           0.83       132\n",
      "   macro avg       0.41      0.50      0.45       132\n",
      "weighted avg       0.68      0.83      0.75       132\n",
      "\n"
     ]
    },
    {
     "name": "stderr",
     "output_type": "stream",
     "text": [
      "C:\\ProgramData\\Anaconda3\\lib\\site-packages\\sklearn\\metrics\\classification.py:1437: UndefinedMetricWarning: Precision and F-score are ill-defined and being set to 0.0 in labels with no predicted samples.\n",
      "  'precision', 'predicted', average, warn_for)\n"
     ]
    }
   ],
   "source": [
    "print(classification_report(y_test, y_pred)) #Bernoulli's Naive Bayes"
   ]
  },
  {
   "cell_type": "code",
   "execution_count": 128,
   "metadata": {},
   "outputs": [
    {
     "data": {
      "text/html": [
       "<div>\n",
       "<style scoped>\n",
       "    .dataframe tbody tr th:only-of-type {\n",
       "        vertical-align: middle;\n",
       "    }\n",
       "\n",
       "    .dataframe tbody tr th {\n",
       "        vertical-align: top;\n",
       "    }\n",
       "\n",
       "    .dataframe thead th {\n",
       "        text-align: right;\n",
       "    }\n",
       "</style>\n",
       "<table border=\"1\" class=\"dataframe\">\n",
       "  <thead>\n",
       "    <tr style=\"text-align: right;\">\n",
       "      <th></th>\n",
       "      <th>DAY_OF_WEEK</th>\n",
       "      <th>depHour</th>\n",
       "      <th>OP_CARRIER_AIRLINE_ID</th>\n",
       "      <th>ORIGIN_STATE_ABR</th>\n",
       "      <th>DEP_DEL15</th>\n",
       "    </tr>\n",
       "  </thead>\n",
       "  <tbody>\n",
       "    <tr>\n",
       "      <td>0</td>\n",
       "      <td>1</td>\n",
       "      <td>9</td>\n",
       "      <td>19393</td>\n",
       "      <td>NM</td>\n",
       "      <td>0.0</td>\n",
       "    </tr>\n",
       "    <tr>\n",
       "      <td>1</td>\n",
       "      <td>1</td>\n",
       "      <td>15</td>\n",
       "      <td>19393</td>\n",
       "      <td>NM</td>\n",
       "      <td>0.0</td>\n",
       "    </tr>\n",
       "    <tr>\n",
       "      <td>2</td>\n",
       "      <td>1</td>\n",
       "      <td>18</td>\n",
       "      <td>19393</td>\n",
       "      <td>NM</td>\n",
       "      <td>0.0</td>\n",
       "    </tr>\n",
       "    <tr>\n",
       "      <td>3</td>\n",
       "      <td>1</td>\n",
       "      <td>9</td>\n",
       "      <td>19393</td>\n",
       "      <td>NM</td>\n",
       "      <td>0.0</td>\n",
       "    </tr>\n",
       "    <tr>\n",
       "      <td>4</td>\n",
       "      <td>1</td>\n",
       "      <td>11</td>\n",
       "      <td>19393</td>\n",
       "      <td>NM</td>\n",
       "      <td>0.0</td>\n",
       "    </tr>\n",
       "  </tbody>\n",
       "</table>\n",
       "</div>"
      ],
      "text/plain": [
       "   DAY_OF_WEEK depHour  OP_CARRIER_AIRLINE_ID ORIGIN_STATE_ABR  DEP_DEL15\n",
       "0            1       9                  19393               NM        0.0\n",
       "1            1      15                  19393               NM        0.0\n",
       "2            1      18                  19393               NM        0.0\n",
       "3            1       9                  19393               NM        0.0\n",
       "4            1      11                  19393               NM        0.0"
      ]
     },
     "execution_count": 128,
     "metadata": {},
     "output_type": "execute_result"
    }
   ],
   "source": [
    "model2df=newdf[['DAY_OF_WEEK','depHour','OP_CARRIER_AIRLINE_ID','ORIGIN_STATE_ABR','DEP_DEL15']].copy()\n",
    "model2df.head()"
   ]
  },
  {
   "cell_type": "code",
   "execution_count": 129,
   "metadata": {},
   "outputs": [],
   "source": [
    "model2df.ORIGIN_STATE_ABR = pd.Categorical(model2df.ORIGIN_STATE_ABR)"
   ]
  },
  {
   "cell_type": "code",
   "execution_count": 130,
   "metadata": {},
   "outputs": [],
   "source": [
    "model2df['stcode'] = model2df.ORIGIN_STATE_ABR.cat.codes"
   ]
  },
  {
   "cell_type": "code",
   "execution_count": 131,
   "metadata": {},
   "outputs": [
    {
     "data": {
      "text/html": [
       "<div>\n",
       "<style scoped>\n",
       "    .dataframe tbody tr th:only-of-type {\n",
       "        vertical-align: middle;\n",
       "    }\n",
       "\n",
       "    .dataframe tbody tr th {\n",
       "        vertical-align: top;\n",
       "    }\n",
       "\n",
       "    .dataframe thead th {\n",
       "        text-align: right;\n",
       "    }\n",
       "</style>\n",
       "<table border=\"1\" class=\"dataframe\">\n",
       "  <thead>\n",
       "    <tr style=\"text-align: right;\">\n",
       "      <th></th>\n",
       "      <th>DAY_OF_WEEK</th>\n",
       "      <th>depHour</th>\n",
       "      <th>OP_CARRIER_AIRLINE_ID</th>\n",
       "      <th>ORIGIN_STATE_ABR</th>\n",
       "      <th>DEP_DEL15</th>\n",
       "      <th>stcode</th>\n",
       "    </tr>\n",
       "  </thead>\n",
       "  <tbody>\n",
       "    <tr>\n",
       "      <td>523</td>\n",
       "      <td>1</td>\n",
       "      <td>11</td>\n",
       "      <td>19393</td>\n",
       "      <td>MD</td>\n",
       "      <td>0.0</td>\n",
       "      <td>6</td>\n",
       "    </tr>\n",
       "    <tr>\n",
       "      <td>524</td>\n",
       "      <td>1</td>\n",
       "      <td>15</td>\n",
       "      <td>19393</td>\n",
       "      <td>MD</td>\n",
       "      <td>0.0</td>\n",
       "      <td>6</td>\n",
       "    </tr>\n",
       "    <tr>\n",
       "      <td>525</td>\n",
       "      <td>1</td>\n",
       "      <td>22</td>\n",
       "      <td>19393</td>\n",
       "      <td>MD</td>\n",
       "      <td>0.0</td>\n",
       "      <td>6</td>\n",
       "    </tr>\n",
       "    <tr>\n",
       "      <td>526</td>\n",
       "      <td>1</td>\n",
       "      <td>9</td>\n",
       "      <td>19393</td>\n",
       "      <td>MD</td>\n",
       "      <td>0.0</td>\n",
       "      <td>6</td>\n",
       "    </tr>\n",
       "    <tr>\n",
       "      <td>527</td>\n",
       "      <td>1</td>\n",
       "      <td>19</td>\n",
       "      <td>19393</td>\n",
       "      <td>MD</td>\n",
       "      <td>0.0</td>\n",
       "      <td>6</td>\n",
       "    </tr>\n",
       "  </tbody>\n",
       "</table>\n",
       "</div>"
      ],
      "text/plain": [
       "     DAY_OF_WEEK depHour  OP_CARRIER_AIRLINE_ID ORIGIN_STATE_ABR  DEP_DEL15  \\\n",
       "523            1      11                  19393               MD        0.0   \n",
       "524            1      15                  19393               MD        0.0   \n",
       "525            1      22                  19393               MD        0.0   \n",
       "526            1       9                  19393               MD        0.0   \n",
       "527            1      19                  19393               MD        0.0   \n",
       "\n",
       "     stcode  \n",
       "523       6  \n",
       "524       6  \n",
       "525       6  \n",
       "526       6  \n",
       "527       6  "
      ]
     },
     "execution_count": 131,
     "metadata": {},
     "output_type": "execute_result"
    }
   ],
   "source": [
    "model2df.tail()"
   ]
  },
  {
   "cell_type": "code",
   "execution_count": 132,
   "metadata": {},
   "outputs": [
    {
     "data": {
      "text/plain": [
       "DAY_OF_WEEK                 int64\n",
       "depHour                  category\n",
       "OP_CARRIER_AIRLINE_ID       int64\n",
       "ORIGIN_STATE_ABR         category\n",
       "DEP_DEL15                 float64\n",
       "stcode                       int8\n",
       "dtype: object"
      ]
     },
     "execution_count": 132,
     "metadata": {},
     "output_type": "execute_result"
    }
   ],
   "source": [
    "model2df.dtypes"
   ]
  },
  {
   "cell_type": "code",
   "execution_count": 133,
   "metadata": {},
   "outputs": [],
   "source": [
    "model2df['depHour']=model2df['depHour'].astype(int)\n",
    "model2df['stcode']=model2df['stcode'].astype(int)"
   ]
  },
  {
   "cell_type": "code",
   "execution_count": 134,
   "metadata": {},
   "outputs": [
    {
     "data": {
      "text/plain": [
       "DAY_OF_WEEK                 int64\n",
       "depHour                     int32\n",
       "OP_CARRIER_AIRLINE_ID       int64\n",
       "ORIGIN_STATE_ABR         category\n",
       "DEP_DEL15                 float64\n",
       "stcode                      int32\n",
       "dtype: object"
      ]
     },
     "execution_count": 134,
     "metadata": {},
     "output_type": "execute_result"
    }
   ],
   "source": [
    "model2df.dtypes"
   ]
  },
  {
   "cell_type": "code",
   "execution_count": 135,
   "metadata": {},
   "outputs": [],
   "source": [
    "model2df = model2df.drop('ORIGIN_STATE_ABR', axis=1)"
   ]
  },
  {
   "cell_type": "code",
   "execution_count": 136,
   "metadata": {},
   "outputs": [
    {
     "data": {
      "text/html": [
       "<div>\n",
       "<style scoped>\n",
       "    .dataframe tbody tr th:only-of-type {\n",
       "        vertical-align: middle;\n",
       "    }\n",
       "\n",
       "    .dataframe tbody tr th {\n",
       "        vertical-align: top;\n",
       "    }\n",
       "\n",
       "    .dataframe thead th {\n",
       "        text-align: right;\n",
       "    }\n",
       "</style>\n",
       "<table border=\"1\" class=\"dataframe\">\n",
       "  <thead>\n",
       "    <tr style=\"text-align: right;\">\n",
       "      <th></th>\n",
       "      <th>DAY_OF_WEEK</th>\n",
       "      <th>depHour</th>\n",
       "      <th>OP_CARRIER_AIRLINE_ID</th>\n",
       "      <th>DEP_DEL15</th>\n",
       "      <th>stcode</th>\n",
       "    </tr>\n",
       "  </thead>\n",
       "  <tbody>\n",
       "    <tr>\n",
       "      <td>0</td>\n",
       "      <td>1</td>\n",
       "      <td>9</td>\n",
       "      <td>19393</td>\n",
       "      <td>0.0</td>\n",
       "      <td>7</td>\n",
       "    </tr>\n",
       "    <tr>\n",
       "      <td>1</td>\n",
       "      <td>1</td>\n",
       "      <td>15</td>\n",
       "      <td>19393</td>\n",
       "      <td>0.0</td>\n",
       "      <td>7</td>\n",
       "    </tr>\n",
       "    <tr>\n",
       "      <td>2</td>\n",
       "      <td>1</td>\n",
       "      <td>18</td>\n",
       "      <td>19393</td>\n",
       "      <td>0.0</td>\n",
       "      <td>7</td>\n",
       "    </tr>\n",
       "    <tr>\n",
       "      <td>3</td>\n",
       "      <td>1</td>\n",
       "      <td>9</td>\n",
       "      <td>19393</td>\n",
       "      <td>0.0</td>\n",
       "      <td>7</td>\n",
       "    </tr>\n",
       "    <tr>\n",
       "      <td>4</td>\n",
       "      <td>1</td>\n",
       "      <td>11</td>\n",
       "      <td>19393</td>\n",
       "      <td>0.0</td>\n",
       "      <td>7</td>\n",
       "    </tr>\n",
       "  </tbody>\n",
       "</table>\n",
       "</div>"
      ],
      "text/plain": [
       "   DAY_OF_WEEK  depHour  OP_CARRIER_AIRLINE_ID  DEP_DEL15  stcode\n",
       "0            1        9                  19393        0.0       7\n",
       "1            1       15                  19393        0.0       7\n",
       "2            1       18                  19393        0.0       7\n",
       "3            1        9                  19393        0.0       7\n",
       "4            1       11                  19393        0.0       7"
      ]
     },
     "execution_count": 136,
     "metadata": {},
     "output_type": "execute_result"
    }
   ],
   "source": [
    "model2df.head()"
   ]
  },
  {
   "cell_type": "code",
   "execution_count": 137,
   "metadata": {},
   "outputs": [],
   "source": [
    "X = model2df.drop('DEP_DEL15', axis=1)\n",
    "y = model2df['DEP_DEL15']"
   ]
  },
  {
   "cell_type": "code",
   "execution_count": 138,
   "metadata": {},
   "outputs": [],
   "source": [
    "X_train, X_test, y_train, y_test = train_test_split(X, y, random_state=747)"
   ]
  },
  {
   "cell_type": "code",
   "execution_count": 139,
   "metadata": {},
   "outputs": [
    {
     "data": {
      "text/plain": [
       "DecisionTreeClassifier(class_weight=None, criterion='gini', max_depth=None,\n",
       "                       max_features=None, max_leaf_nodes=None,\n",
       "                       min_impurity_decrease=0.0, min_impurity_split=None,\n",
       "                       min_samples_leaf=1, min_samples_split=2,\n",
       "                       min_weight_fraction_leaf=0.0, presort=False,\n",
       "                       random_state=None, splitter='best')"
      ]
     },
     "execution_count": 139,
     "metadata": {},
     "output_type": "execute_result"
    }
   ],
   "source": [
    "tree.fit(X_train, y_train)"
   ]
  },
  {
   "cell_type": "code",
   "execution_count": 140,
   "metadata": {},
   "outputs": [
    {
     "data": {
      "text/plain": [
       "0.9312977099236641"
      ]
     },
     "execution_count": 140,
     "metadata": {},
     "output_type": "execute_result"
    }
   ],
   "source": [
    "tree.score(X_train, y_train)"
   ]
  },
  {
   "cell_type": "code",
   "execution_count": 141,
   "metadata": {},
   "outputs": [],
   "source": [
    "y_predict = tree.predict(X_test)"
   ]
  },
  {
   "cell_type": "code",
   "execution_count": 142,
   "metadata": {},
   "outputs": [
    {
     "data": {
      "text/plain": [
       "0.8333333333333334"
      ]
     },
     "execution_count": 142,
     "metadata": {},
     "output_type": "execute_result"
    }
   ],
   "source": [
    "tree.score(X_test, y_test)"
   ]
  },
  {
   "cell_type": "code",
   "execution_count": 143,
   "metadata": {},
   "outputs": [
    {
     "data": {
      "text/html": [
       "<div>\n",
       "<style scoped>\n",
       "    .dataframe tbody tr th:only-of-type {\n",
       "        vertical-align: middle;\n",
       "    }\n",
       "\n",
       "    .dataframe tbody tr th {\n",
       "        vertical-align: top;\n",
       "    }\n",
       "\n",
       "    .dataframe thead th {\n",
       "        text-align: right;\n",
       "    }\n",
       "</style>\n",
       "<table border=\"1\" class=\"dataframe\">\n",
       "  <thead>\n",
       "    <tr style=\"text-align: right;\">\n",
       "      <th></th>\n",
       "      <th>Predicted On Time</th>\n",
       "      <th>Predicted Late</th>\n",
       "    </tr>\n",
       "  </thead>\n",
       "  <tbody>\n",
       "    <tr>\n",
       "      <td>True On Time</td>\n",
       "      <td>109</td>\n",
       "      <td>0</td>\n",
       "    </tr>\n",
       "    <tr>\n",
       "      <td>True Late</td>\n",
       "      <td>23</td>\n",
       "      <td>0</td>\n",
       "    </tr>\n",
       "  </tbody>\n",
       "</table>\n",
       "</div>"
      ],
      "text/plain": [
       "              Predicted On Time  Predicted Late\n",
       "True On Time                109               0\n",
       "True Late                    23               0"
      ]
     },
     "execution_count": 143,
     "metadata": {},
     "output_type": "execute_result"
    }
   ],
   "source": [
    "cm = pd.DataFrame(\n",
    "    confusion_matrix(y_test, y_pred),\n",
    "    columns=['Predicted On Time', 'Predicted Late'],\n",
    "    index=['True On Time', 'True Late']\n",
    ")\n",
    "\n",
    "cm"
   ]
  },
  {
   "cell_type": "code",
   "execution_count": 144,
   "metadata": {},
   "outputs": [
    {
     "name": "stdout",
     "output_type": "stream",
     "text": [
      "              precision    recall  f1-score   support\n",
      "\n",
      "         0.0       0.83      1.00      0.90       109\n",
      "         1.0       0.00      0.00      0.00        23\n",
      "\n",
      "    accuracy                           0.83       132\n",
      "   macro avg       0.41      0.50      0.45       132\n",
      "weighted avg       0.68      0.83      0.75       132\n",
      "\n"
     ]
    },
    {
     "name": "stderr",
     "output_type": "stream",
     "text": [
      "C:\\ProgramData\\Anaconda3\\lib\\site-packages\\sklearn\\metrics\\classification.py:1437: UndefinedMetricWarning: Precision and F-score are ill-defined and being set to 0.0 in labels with no predicted samples.\n",
      "  'precision', 'predicted', average, warn_for)\n"
     ]
    }
   ],
   "source": [
    "print(classification_report(y_test, y_pred))"
   ]
  },
  {
   "cell_type": "code",
   "execution_count": 145,
   "metadata": {},
   "outputs": [
    {
     "data": {
      "text/html": [
       "<div>\n",
       "<style scoped>\n",
       "    .dataframe tbody tr th:only-of-type {\n",
       "        vertical-align: middle;\n",
       "    }\n",
       "\n",
       "    .dataframe tbody tr th {\n",
       "        vertical-align: top;\n",
       "    }\n",
       "\n",
       "    .dataframe thead th {\n",
       "        text-align: right;\n",
       "    }\n",
       "</style>\n",
       "<table border=\"1\" class=\"dataframe\">\n",
       "  <thead>\n",
       "    <tr style=\"text-align: right;\">\n",
       "      <th></th>\n",
       "      <th>DAY_OF_WEEK</th>\n",
       "      <th>depHour</th>\n",
       "      <th>OP_CARRIER_AIRLINE_ID</th>\n",
       "      <th>DEP_DEL15</th>\n",
       "      <th>stcode</th>\n",
       "    </tr>\n",
       "  </thead>\n",
       "  <tbody>\n",
       "    <tr>\n",
       "      <td>DAY_OF_WEEK</td>\n",
       "      <td>NaN</td>\n",
       "      <td>NaN</td>\n",
       "      <td>NaN</td>\n",
       "      <td>NaN</td>\n",
       "      <td>NaN</td>\n",
       "    </tr>\n",
       "    <tr>\n",
       "      <td>depHour</td>\n",
       "      <td>NaN</td>\n",
       "      <td>1.000000</td>\n",
       "      <td>NaN</td>\n",
       "      <td>0.201836</td>\n",
       "      <td>-0.044309</td>\n",
       "    </tr>\n",
       "    <tr>\n",
       "      <td>OP_CARRIER_AIRLINE_ID</td>\n",
       "      <td>NaN</td>\n",
       "      <td>NaN</td>\n",
       "      <td>NaN</td>\n",
       "      <td>NaN</td>\n",
       "      <td>NaN</td>\n",
       "    </tr>\n",
       "    <tr>\n",
       "      <td>DEP_DEL15</td>\n",
       "      <td>NaN</td>\n",
       "      <td>0.201836</td>\n",
       "      <td>NaN</td>\n",
       "      <td>1.000000</td>\n",
       "      <td>-0.034776</td>\n",
       "    </tr>\n",
       "    <tr>\n",
       "      <td>stcode</td>\n",
       "      <td>NaN</td>\n",
       "      <td>-0.044309</td>\n",
       "      <td>NaN</td>\n",
       "      <td>-0.034776</td>\n",
       "      <td>1.000000</td>\n",
       "    </tr>\n",
       "  </tbody>\n",
       "</table>\n",
       "</div>"
      ],
      "text/plain": [
       "                       DAY_OF_WEEK   depHour  OP_CARRIER_AIRLINE_ID  \\\n",
       "DAY_OF_WEEK                    NaN       NaN                    NaN   \n",
       "depHour                        NaN  1.000000                    NaN   \n",
       "OP_CARRIER_AIRLINE_ID          NaN       NaN                    NaN   \n",
       "DEP_DEL15                      NaN  0.201836                    NaN   \n",
       "stcode                         NaN -0.044309                    NaN   \n",
       "\n",
       "                       DEP_DEL15    stcode  \n",
       "DAY_OF_WEEK                  NaN       NaN  \n",
       "depHour                 0.201836 -0.044309  \n",
       "OP_CARRIER_AIRLINE_ID        NaN       NaN  \n",
       "DEP_DEL15               1.000000 -0.034776  \n",
       "stcode                 -0.034776  1.000000  "
      ]
     },
     "execution_count": 145,
     "metadata": {},
     "output_type": "execute_result"
    }
   ],
   "source": [
    "model2df.corr()"
   ]
  },
  {
   "cell_type": "code",
   "execution_count": 147,
   "metadata": {},
   "outputs": [
    {
     "name": "stdout",
     "output_type": "stream",
     "text": [
      "[0.]\n"
     ]
    }
   ],
   "source": [
    "tpred = [1,17,19393,7]\n",
    "\n",
    "print(tree.predict([tpred]))"
   ]
  },
  {
   "cell_type": "code",
   "execution_count": 113,
   "metadata": {},
   "outputs": [
    {
     "data": {
      "text/plain": [
       "3     119\n",
       "9     105\n",
       "10     69\n",
       "1      57\n",
       "6      44\n",
       "7      34\n",
       "5      33\n",
       "8      25\n",
       "2      15\n",
       "4      12\n",
       "0      12\n",
       "Name: stcode, dtype: int64"
      ]
     },
     "execution_count": 113,
     "metadata": {},
     "output_type": "execute_result"
    }
   ],
   "source": [
    "model2df['stcode'].value_counts()"
   ]
  },
  {
   "cell_type": "code",
   "execution_count": 114,
   "metadata": {},
   "outputs": [
    {
     "data": {
      "text/plain": [
       "KMeans(algorithm='auto', copy_x=True, init='k-means++', max_iter=300,\n",
       "       n_clusters=2, n_init=10, n_jobs=None, precompute_distances='auto',\n",
       "       random_state=None, tol=0.0001, verbose=0)"
      ]
     },
     "execution_count": 114,
     "metadata": {},
     "output_type": "execute_result"
    }
   ],
   "source": [
    "kmeans = KMeans(n_clusters=2)\n",
    "kmeans.fit(X)"
   ]
  },
  {
   "cell_type": "code",
   "execution_count": 115,
   "metadata": {},
   "outputs": [
    {
     "name": "stdout",
     "output_type": "stream",
     "text": [
      "[[1.00000000e+00 9.14234875e+00 1.93930000e+04 5.74377224e+00]\n",
      " [1.00000000e+00 1.76639344e+01 1.93930000e+04 5.65573770e+00]]\n"
     ]
    }
   ],
   "source": [
    "print(kmeans.cluster_centers_)"
   ]
  },
  {
   "cell_type": "code",
   "execution_count": 116,
   "metadata": {},
   "outputs": [],
   "source": [
    "model2df['cluster'] = kmeans.labels_"
   ]
  },
  {
   "cell_type": "code",
   "execution_count": 117,
   "metadata": {},
   "outputs": [
    {
     "data": {
      "text/html": [
       "<div>\n",
       "<style scoped>\n",
       "    .dataframe tbody tr th:only-of-type {\n",
       "        vertical-align: middle;\n",
       "    }\n",
       "\n",
       "    .dataframe tbody tr th {\n",
       "        vertical-align: top;\n",
       "    }\n",
       "\n",
       "    .dataframe thead th {\n",
       "        text-align: right;\n",
       "    }\n",
       "</style>\n",
       "<table border=\"1\" class=\"dataframe\">\n",
       "  <thead>\n",
       "    <tr style=\"text-align: right;\">\n",
       "      <th></th>\n",
       "      <th>DAY_OF_WEEK</th>\n",
       "      <th>depHour</th>\n",
       "      <th>OP_CARRIER_AIRLINE_ID</th>\n",
       "      <th>DEP_DEL15</th>\n",
       "      <th>stcode</th>\n",
       "      <th>cluster</th>\n",
       "    </tr>\n",
       "  </thead>\n",
       "  <tbody>\n",
       "    <tr>\n",
       "      <td>0</td>\n",
       "      <td>1</td>\n",
       "      <td>9</td>\n",
       "      <td>19393</td>\n",
       "      <td>0.0</td>\n",
       "      <td>7</td>\n",
       "      <td>0</td>\n",
       "    </tr>\n",
       "    <tr>\n",
       "      <td>1</td>\n",
       "      <td>1</td>\n",
       "      <td>15</td>\n",
       "      <td>19393</td>\n",
       "      <td>0.0</td>\n",
       "      <td>7</td>\n",
       "      <td>1</td>\n",
       "    </tr>\n",
       "    <tr>\n",
       "      <td>2</td>\n",
       "      <td>1</td>\n",
       "      <td>18</td>\n",
       "      <td>19393</td>\n",
       "      <td>0.0</td>\n",
       "      <td>7</td>\n",
       "      <td>1</td>\n",
       "    </tr>\n",
       "    <tr>\n",
       "      <td>3</td>\n",
       "      <td>1</td>\n",
       "      <td>9</td>\n",
       "      <td>19393</td>\n",
       "      <td>0.0</td>\n",
       "      <td>7</td>\n",
       "      <td>0</td>\n",
       "    </tr>\n",
       "    <tr>\n",
       "      <td>4</td>\n",
       "      <td>1</td>\n",
       "      <td>11</td>\n",
       "      <td>19393</td>\n",
       "      <td>0.0</td>\n",
       "      <td>7</td>\n",
       "      <td>0</td>\n",
       "    </tr>\n",
       "  </tbody>\n",
       "</table>\n",
       "</div>"
      ],
      "text/plain": [
       "   DAY_OF_WEEK  depHour  OP_CARRIER_AIRLINE_ID  DEP_DEL15  stcode  cluster\n",
       "0            1        9                  19393        0.0       7        0\n",
       "1            1       15                  19393        0.0       7        1\n",
       "2            1       18                  19393        0.0       7        1\n",
       "3            1        9                  19393        0.0       7        0\n",
       "4            1       11                  19393        0.0       7        0"
      ]
     },
     "execution_count": 117,
     "metadata": {},
     "output_type": "execute_result"
    }
   ],
   "source": [
    "model2df.head()"
   ]
  },
  {
   "cell_type": "code",
   "execution_count": 127,
   "metadata": {},
   "outputs": [
    {
     "data": {
      "text/plain": [
       "Index(['DAY_OF_WEEK', 'depHour', 'OP_CARRIER_AIRLINE_ID', 'stcode'], dtype='object')"
      ]
     },
     "execution_count": 127,
     "metadata": {},
     "output_type": "execute_result"
    }
   ],
   "source": [
    "X.columns"
   ]
  },
  {
   "cell_type": "code",
   "execution_count": 124,
   "metadata": {},
   "outputs": [
    {
     "name": "stdout",
     "output_type": "stream",
     "text": [
      "[0]\n"
     ]
    }
   ],
   "source": [
    "kpred = [1,5,19393,7]\n",
    "print(kmeans.predict([kpred]))"
   ]
  },
  {
   "cell_type": "code",
   "execution_count": 179,
   "metadata": {},
   "outputs": [
    {
     "data": {
      "text/html": [
       "<div>\n",
       "<style scoped>\n",
       "    .dataframe tbody tr th:only-of-type {\n",
       "        vertical-align: middle;\n",
       "    }\n",
       "\n",
       "    .dataframe tbody tr th {\n",
       "        vertical-align: top;\n",
       "    }\n",
       "\n",
       "    .dataframe thead th {\n",
       "        text-align: right;\n",
       "    }\n",
       "</style>\n",
       "<table border=\"1\" class=\"dataframe\">\n",
       "  <thead>\n",
       "    <tr style=\"text-align: right;\">\n",
       "      <th></th>\n",
       "      <th>ORIGIN_STATE_ABR</th>\n",
       "      <th>stcode</th>\n",
       "    </tr>\n",
       "  </thead>\n",
       "  <tbody>\n",
       "    <tr>\n",
       "      <td>0</td>\n",
       "      <td>NM</td>\n",
       "      <td>7</td>\n",
       "    </tr>\n",
       "    <tr>\n",
       "      <td>1</td>\n",
       "      <td>NM</td>\n",
       "      <td>7</td>\n",
       "    </tr>\n",
       "    <tr>\n",
       "      <td>2</td>\n",
       "      <td>NM</td>\n",
       "      <td>7</td>\n",
       "    </tr>\n",
       "    <tr>\n",
       "      <td>3</td>\n",
       "      <td>NM</td>\n",
       "      <td>7</td>\n",
       "    </tr>\n",
       "    <tr>\n",
       "      <td>4</td>\n",
       "      <td>NM</td>\n",
       "      <td>7</td>\n",
       "    </tr>\n",
       "  </tbody>\n",
       "</table>\n",
       "</div>"
      ],
      "text/plain": [
       "  ORIGIN_STATE_ABR  stcode\n",
       "0               NM       7\n",
       "1               NM       7\n",
       "2               NM       7\n",
       "3               NM       7\n",
       "4               NM       7"
      ]
     },
     "execution_count": 179,
     "metadata": {},
     "output_type": "execute_result"
    }
   ],
   "source": [
    "model3df=newdf[['ORIGIN_STATE_ABR']].copy()\n",
    "model3df['stcode']=model2df['stcode']\n",
    "model3df.head()"
   ]
  },
  {
   "cell_type": "code",
   "execution_count": 181,
   "metadata": {},
   "outputs": [
    {
     "data": {
      "text/html": [
       "<div>\n",
       "<style scoped>\n",
       "    .dataframe tbody tr th:only-of-type {\n",
       "        vertical-align: middle;\n",
       "    }\n",
       "\n",
       "    .dataframe tbody tr th {\n",
       "        vertical-align: top;\n",
       "    }\n",
       "\n",
       "    .dataframe thead th {\n",
       "        text-align: right;\n",
       "    }\n",
       "</style>\n",
       "<table border=\"1\" class=\"dataframe\">\n",
       "  <thead>\n",
       "    <tr style=\"text-align: right;\">\n",
       "      <th></th>\n",
       "      <th>ORIGIN_STATE_ABR</th>\n",
       "      <th>stcode</th>\n",
       "    </tr>\n",
       "  </thead>\n",
       "  <tbody>\n",
       "    <tr>\n",
       "      <td>0</td>\n",
       "      <td>NM</td>\n",
       "      <td>7</td>\n",
       "    </tr>\n",
       "    <tr>\n",
       "      <td>34</td>\n",
       "      <td>NY</td>\n",
       "      <td>8</td>\n",
       "    </tr>\n",
       "    <tr>\n",
       "      <td>44</td>\n",
       "      <td>TX</td>\n",
       "      <td>10</td>\n",
       "    </tr>\n",
       "    <tr>\n",
       "      <td>49</td>\n",
       "      <td>GA</td>\n",
       "      <td>3</td>\n",
       "    </tr>\n",
       "    <tr>\n",
       "      <td>233</td>\n",
       "      <td>CT</td>\n",
       "      <td>2</td>\n",
       "    </tr>\n",
       "    <tr>\n",
       "      <td>248</td>\n",
       "      <td>AL</td>\n",
       "      <td>0</td>\n",
       "    </tr>\n",
       "    <tr>\n",
       "      <td>260</td>\n",
       "      <td>TN</td>\n",
       "      <td>9</td>\n",
       "    </tr>\n",
       "    <tr>\n",
       "      <td>365</td>\n",
       "      <td>ID</td>\n",
       "      <td>4</td>\n",
       "    </tr>\n",
       "    <tr>\n",
       "      <td>377</td>\n",
       "      <td>MA</td>\n",
       "      <td>5</td>\n",
       "    </tr>\n",
       "    <tr>\n",
       "      <td>426</td>\n",
       "      <td>CA</td>\n",
       "      <td>1</td>\n",
       "    </tr>\n",
       "    <tr>\n",
       "      <td>483</td>\n",
       "      <td>MD</td>\n",
       "      <td>6</td>\n",
       "    </tr>\n",
       "  </tbody>\n",
       "</table>\n",
       "</div>"
      ],
      "text/plain": [
       "    ORIGIN_STATE_ABR  stcode\n",
       "0                 NM       7\n",
       "34                NY       8\n",
       "44                TX      10\n",
       "49                GA       3\n",
       "233               CT       2\n",
       "248               AL       0\n",
       "260               TN       9\n",
       "365               ID       4\n",
       "377               MA       5\n",
       "426               CA       1\n",
       "483               MD       6"
      ]
     },
     "execution_count": 181,
     "metadata": {},
     "output_type": "execute_result"
    }
   ],
   "source": [
    "model3df.drop_duplicates(['stcode'])"
   ]
  },
  {
   "cell_type": "code",
   "execution_count": null,
   "metadata": {},
   "outputs": [],
   "source": [
    "#finaldf.to_csv(\"FlightData.csv\", index=False)"
   ]
  }
 ],
 "metadata": {
  "kernelspec": {
   "display_name": "Python 3",
   "language": "python",
   "name": "python3"
  },
  "language_info": {
   "codemirror_mode": {
    "name": "ipython",
    "version": 3
   },
   "file_extension": ".py",
   "mimetype": "text/x-python",
   "name": "python",
   "nbconvert_exporter": "python",
   "pygments_lexer": "ipython3",
   "version": "3.7.4"
  }
 },
 "nbformat": 4,
 "nbformat_minor": 2
}
